{
  "cells": [
    {
      "cell_type": "markdown",
      "metadata": {
        "id": "2Xa7GSdoGCTU"
      },
      "source": [
        "# **Индивидуальное задание по теме: \"Применение методов интеллектуального анализа данных для прогностического моделирования с интеграцией визуализации пространственых данных\"**"
      ]
    },
    {
      "cell_type": "markdown",
      "metadata": {
        "id": "X-uccVmlAcKb"
      },
      "source": [
        "## **I. Общая структура работы**"
      ]
    },
    {
      "cell_type": "code",
      "execution_count": 4,
      "metadata": {
        "colab": {
          "base_uri": "https://localhost:8080/"
        },
        "id": "5GwK93QZ0nxc",
        "outputId": "9303dde6-39b4-4302-acdd-9c445a54ecd6"
      },
      "outputs": [
        {
          "name": "stdout",
          "output_type": "stream",
          "text": [
            "Mounted at /content/drive\n"
          ]
        }
      ],
      "source": [
        "from google.colab import drive\n",
        "drive.mount('/content/drive')"
      ]
    },
    {
      "cell_type": "markdown",
      "metadata": {
        "id": "BNWeEu9EAqqD"
      },
      "source": [
        "## **II. Прогнозирование температуры в в различных районах Таиланда на основе пространственно-временных данных с использованием методов машинного обучения**\n"
      ]
    },
    {
      "cell_type": "markdown",
      "metadata": {
        "id": "0EyNORJJAuKw"
      },
      "source": [
        "### 1. **Определение цели**\n",
        "\n"
      ]
    },
    {
      "cell_type": "markdown",
      "metadata": {
        "id": "CEREK94pAvCQ"
      },
      "source": [
        "Прогнозировать температуру в различных районах Таиланда\n",
        "\n"
      ]
    },
    {
      "cell_type": "markdown",
      "metadata": {
        "id": "vdWEUj04Afzi"
      },
      "source": [
        "### 1. **Определение цели**\n",
        "\n",
        "Определите, что вы хотите предсказать на основе пространственных данных. Это может быть любое явление или процесс, связанный с географической информацией (например, экологические риски, урбанистическое развитие, распространение заболеваний и т.д.).\n",
        "\n",
        "### 2. **Сбор и подготовка данных**\n",
        "\n",
        "- **Сбор данных:** Поиск и сбор пространственных данных из надежных источников [(геопорталы, спутниковые данные, открытые базы данных](https://u.to/e_FFIQ)).\n",
        "\n",
        "- **Предварительная обработка данных:** Очистка данных, устранение пропущенных значений, нормализация данных, геокодирование, работа с координатными системами и проекциями.\n",
        "\n",
        "- **Разбиение на подвыборки:** Разделение данных на обучающую, валидационную и тестовую выборки.\n",
        "\n",
        "### 3. **Выбор признаков и моделей**\n",
        "\n",
        "- **Инженерия признаков:** Определение наиболее значимых признаков из пространственных данных. Возможна генерация новых признаков путем комбинирования исходных данных.\n",
        "\n",
        "- **Выбор моделей:** Выбор моделей машинного обучения, способных эффективно работать с пространственными данными (например, случайный лес, градиентный бустинг, нейронные сети, геостатистические модели).\n",
        "\n",
        "### 4. **Разработка аналитической базы**\n",
        "\n",
        "- **Исследование данных:** Использование инструментов визуализации и анализа пространственных данных для выявления закономерностей и аномалий.\n",
        "\n",
        "- **Интеграция с ГИС или сервисами интерактивного картографирования:** Работа с такими инструментами, как Folium, GeoPandas, QGIS для визуализации и анализа пространственных данных.\n",
        "\n",
        "### 5. **Тренировка моделей**\n",
        "\n",
        "- **Настройка гиперпараметров:** Оптимизация моделей для достижения наилучших результатов.\n",
        "\n",
        "- **Кросс-валидация:** Проверка стабильности моделей на различных подвыборках данных.\n",
        "\n",
        "- **Оценка производительности:** Использование метрик (MAE, MSE, RMSE, точность и т.д.) для оценки эффективности моделей.\n",
        "\n",
        "### 6. **Проверка и оценка моделей**\n",
        "\n",
        "- **Валидация моделей:** Проверка моделей на валидационном наборе данных.\n",
        "\n",
        "- **Тестирование моделей:** Финальное тестирование на тестовом наборе данных для оценки обобщающей способности моделей.\n",
        "\n",
        "### 7. **Развертывание и демонстрация**\n",
        "\n",
        "- **Создание API-интерфейса для обученной модели:** Реализация API с использованием фреймворков (например, FastAPI, Flask) для предоставления доступа к модели.\n",
        "\n",
        "- **Разработка графического интерфейса:** Создание пользовательского интерфейса с помощью Streamlit или других инструментов для взаимодействия с моделью и визуализации результатов.\n",
        "\n",
        "- **Демонстрация работы модели:** Показать пример обращения к модели через API и визуализировать результаты, которые модель возвращает.\n",
        "\n",
        "### **Инструменты и технологии**\n",
        "\n",
        "- **Язык программирования:** Python.\n",
        "\n",
        "- **Библиотеки для машинного обучения:** Scikit-learn, TensorFlow и др.\n",
        "\n",
        "- **Библиотеки для работы с пространственными данными:** GeoPandas, Folium, Rasterio и др..\n",
        "\n",
        "- **Фреймворки для создания API:** FastAPI, Flask и др.\n",
        "\n",
        "- **Инструменты для визуализации:** Matplotlib, Plotly, Streamlit и др.\n"
      ]
    },
    {
      "cell_type": "markdown",
      "metadata": {
        "id": "fLd0swIoAxFE"
      },
      "source": [
        " 2. **Сбор и подготовка данных**\n",
        "\n"
      ]
    },
    {
      "cell_type": "markdown",
      "metadata": {
        "id": "zXG_wMQKAyOq"
      },
      "source": [
        "- **Сбор данных:**\n",
        "\n",
        "  - Геоданные о рельефе, растительности, гидрологии.\n",
        "\n",
        "  - Климатические данные: температура, влажность, осадки.\n",
        "\n",
        "  - Исторические данные о случаях возникновения рисков.\n",
        "\n",
        "- **Предварительная обработка данных:**\n",
        "\n",
        "  - Объединение данных из разных источников.\n",
        "\n",
        "  - Обработка и заполнение пропущенных значений.\n",
        "\n",
        "  - Геопривязка данных и согласование координатных систем."
      ]
    },
    {
      "cell_type": "code",
      "execution_count": null,
      "metadata": {
        "colab": {
          "base_uri": "https://localhost:8080/"
        },
        "id": "X0hMtnymKLu6",
        "outputId": "c33246db-1b82-40f3-d389-05acbd4bdb34"
      },
      "outputs": [
        {
          "name": "stdout",
          "output_type": "stream",
          "text": [
            "Git LFS initialized.\n",
            "Collecting bayesnf\n",
            "  Downloading bayesnf-0.1.3-py3-none-any.whl.metadata (4.3 kB)\n",
            "Requirement already satisfied: flax in /usr/local/lib/python3.11/dist-packages (from bayesnf) (0.10.2)\n",
            "Requirement already satisfied: jax>=0.4.6 in /usr/local/lib/python3.11/dist-packages (from bayesnf) (0.4.33)\n",
            "Collecting jaxtyping (from bayesnf)\n",
            "  Downloading jaxtyping-0.2.36-py3-none-any.whl.metadata (6.5 kB)\n",
            "Requirement already satisfied: numpy in /usr/local/lib/python3.11/dist-packages (from bayesnf) (1.26.4)\n",
            "Requirement already satisfied: optax in /usr/local/lib/python3.11/dist-packages (from bayesnf) (0.2.4)\n",
            "Requirement already satisfied: pandas in /usr/local/lib/python3.11/dist-packages (from bayesnf) (2.2.2)\n",
            "Requirement already satisfied: tensorflow-probability>=0.19.0 in /usr/local/lib/python3.11/dist-packages (from tensorflow-probability[jax]>=0.19.0->bayesnf) (0.24.0)\n",
            "Requirement already satisfied: jaxlib<=0.4.33,>=0.4.33 in /usr/local/lib/python3.11/dist-packages (from jax>=0.4.6->bayesnf) (0.4.33)\n",
            "Requirement already satisfied: ml-dtypes>=0.2.0 in /usr/local/lib/python3.11/dist-packages (from jax>=0.4.6->bayesnf) (0.4.1)\n",
            "Requirement already satisfied: opt-einsum in /usr/local/lib/python3.11/dist-packages (from jax>=0.4.6->bayesnf) (3.4.0)\n",
            "Requirement already satisfied: scipy>=1.10 in /usr/local/lib/python3.11/dist-packages (from jax>=0.4.6->bayesnf) (1.13.1)\n",
            "Requirement already satisfied: absl-py in /usr/local/lib/python3.11/dist-packages (from tensorflow-probability>=0.19.0->tensorflow-probability[jax]>=0.19.0->bayesnf) (1.4.0)\n",
            "Requirement already satisfied: six>=1.10.0 in /usr/local/lib/python3.11/dist-packages (from tensorflow-probability>=0.19.0->tensorflow-probability[jax]>=0.19.0->bayesnf) (1.17.0)\n",
            "Requirement already satisfied: decorator in /usr/local/lib/python3.11/dist-packages (from tensorflow-probability>=0.19.0->tensorflow-probability[jax]>=0.19.0->bayesnf) (4.4.2)\n",
            "Requirement already satisfied: cloudpickle>=1.3 in /usr/local/lib/python3.11/dist-packages (from tensorflow-probability>=0.19.0->tensorflow-probability[jax]>=0.19.0->bayesnf) (3.1.0)\n",
            "Requirement already satisfied: gast>=0.3.2 in /usr/local/lib/python3.11/dist-packages (from tensorflow-probability>=0.19.0->tensorflow-probability[jax]>=0.19.0->bayesnf) (0.6.0)\n",
            "Requirement already satisfied: dm-tree in /usr/local/lib/python3.11/dist-packages (from tensorflow-probability>=0.19.0->tensorflow-probability[jax]>=0.19.0->bayesnf) (0.1.8)\n",
            "Requirement already satisfied: msgpack in /usr/local/lib/python3.11/dist-packages (from flax->bayesnf) (1.1.0)\n",
            "Requirement already satisfied: orbax-checkpoint in /usr/local/lib/python3.11/dist-packages (from flax->bayesnf) (0.6.4)\n",
            "Requirement already satisfied: tensorstore in /usr/local/lib/python3.11/dist-packages (from flax->bayesnf) (0.1.71)\n",
            "Requirement already satisfied: rich>=11.1 in /usr/local/lib/python3.11/dist-packages (from flax->bayesnf) (13.9.4)\n",
            "Requirement already satisfied: typing-extensions>=4.2 in /usr/local/lib/python3.11/dist-packages (from flax->bayesnf) (4.12.2)\n",
            "Requirement already satisfied: PyYAML>=5.4.1 in /usr/local/lib/python3.11/dist-packages (from flax->bayesnf) (6.0.2)\n",
            "Requirement already satisfied: chex>=0.1.87 in /usr/local/lib/python3.11/dist-packages (from optax->bayesnf) (0.1.88)\n",
            "Requirement already satisfied: etils[epy] in /usr/local/lib/python3.11/dist-packages (from optax->bayesnf) (1.11.0)\n",
            "Requirement already satisfied: python-dateutil>=2.8.2 in /usr/local/lib/python3.11/dist-packages (from pandas->bayesnf) (2.8.2)\n",
            "Requirement already satisfied: pytz>=2020.1 in /usr/local/lib/python3.11/dist-packages (from pandas->bayesnf) (2024.2)\n",
            "Requirement already satisfied: tzdata>=2022.7 in /usr/local/lib/python3.11/dist-packages (from pandas->bayesnf) (2024.2)\n",
            "Requirement already satisfied: toolz>=0.9.0 in /usr/local/lib/python3.11/dist-packages (from chex>=0.1.87->optax->bayesnf) (0.12.1)\n",
            "Requirement already satisfied: markdown-it-py>=2.2.0 in /usr/local/lib/python3.11/dist-packages (from rich>=11.1->flax->bayesnf) (3.0.0)\n",
            "Requirement already satisfied: pygments<3.0.0,>=2.13.0 in /usr/local/lib/python3.11/dist-packages (from rich>=11.1->flax->bayesnf) (2.18.0)\n",
            "Requirement already satisfied: nest_asyncio in /usr/local/lib/python3.11/dist-packages (from orbax-checkpoint->flax->bayesnf) (1.6.0)\n",
            "Requirement already satisfied: protobuf in /usr/local/lib/python3.11/dist-packages (from orbax-checkpoint->flax->bayesnf) (4.25.5)\n",
            "Requirement already satisfied: humanize in /usr/local/lib/python3.11/dist-packages (from orbax-checkpoint->flax->bayesnf) (4.11.0)\n",
            "Requirement already satisfied: mdurl~=0.1 in /usr/local/lib/python3.11/dist-packages (from markdown-it-py>=2.2.0->rich>=11.1->flax->bayesnf) (0.1.2)\n",
            "Requirement already satisfied: fsspec in /usr/local/lib/python3.11/dist-packages (from etils[epy]->optax->bayesnf) (2024.10.0)\n",
            "Requirement already satisfied: importlib_resources in /usr/local/lib/python3.11/dist-packages (from etils[epy]->optax->bayesnf) (6.5.2)\n",
            "Requirement already satisfied: zipp in /usr/local/lib/python3.11/dist-packages (from etils[epy]->optax->bayesnf) (3.21.0)\n",
            "Downloading bayesnf-0.1.3-py3-none-any.whl (25 kB)\n",
            "Downloading jaxtyping-0.2.36-py3-none-any.whl (55 kB)\n",
            "\u001b[2K   \u001b[90m━━━━━━━━━━━━━━━━━━━━━━━━━━━━━━━━━━━━━━━━\u001b[0m \u001b[32m55.8/55.8 kB\u001b[0m \u001b[31m2.0 MB/s\u001b[0m eta \u001b[36m0:00:00\u001b[0m\n",
            "\u001b[?25hInstalling collected packages: jaxtyping, bayesnf\n",
            "Successfully installed bayesnf-0.1.3 jaxtyping-0.2.36\n"
          ]
        }
      ],
      "source": [
        "!git lfs install\n",
        "!pip install bayesnf"
      ]
    },
    {
      "cell_type": "code",
      "execution_count": null,
      "metadata": {
        "colab": {
          "base_uri": "https://localhost:8080/"
        },
        "id": "myOz8SaHOoNW",
        "outputId": "1eefe31f-bdcc-4065-c9a8-4e343bb08661"
      },
      "outputs": [
        {
          "name": "stdout",
          "output_type": "stream",
          "text": [
            "Cloning into 'ECMWF_Thailand_Land_Air_Temperatures'...\n",
            "remote: Enumerating objects: 128, done.\u001b[K\n",
            "remote: Total 128 (delta 0), reused 0 (delta 0), pack-reused 128 (from 1)\u001b[K\n",
            "Receiving objects: 100% (128/128), 15.42 KiB | 3.08 MiB/s, done.\n",
            "Resolving deltas: 100% (56/56), done.\n",
            "Filtering content: 100% (24/24), 8.45 GiB | 48.46 MiB/s, done.\n"
          ]
        }
      ],
      "source": [
        "!git clone https://huggingface.co/datasets/WasuratS/ECMWF_Thailand_Land_Air_Temperatures"
      ]
    },
    {
      "cell_type": "code",
      "execution_count": 19,
      "metadata": {
        "id": "FA1BqVRRPwOR"
      },
      "outputs": [],
      "source": [
        "import os\n",
        "import pandas as pd\n",
        "import matplotlib.pyplot as plt\n",
        "import jax"
      ]
    },
    {
      "cell_type": "code",
      "execution_count": 21,
      "metadata": {
        "id": "RRGHlldPP4A0"
      },
      "outputs": [],
      "source": [
        "pathDir = './datasets'"
      ]
    },
    {
      "cell_type": "code",
      "execution_count": 22,
      "metadata": {
        "colab": {
          "base_uri": "https://localhost:8080/"
        },
        "id": "yiuxzUbaUqek",
        "outputId": "a64ab161-0b2b-4a3d-d038-48cf5d115529"
      },
      "outputs": [
        {
          "name": "stdout",
          "output_type": "stream",
          "text": [
            "<class 'pandas.core.frame.DataFrame'>\n",
            "RangeIndex: 34990 entries, 0 to 34989\n",
            "Data columns (total 4 columns):\n",
            " #   Column        Non-Null Count  Dtype  \n",
            "---  ------        --------------  -----  \n",
            " 0   date          34990 non-null  object \n",
            " 1   latitude      34990 non-null  float64\n",
            " 2   longitude     34990 non-null  float64\n",
            " 3   temperatures  34990 non-null  float64\n",
            "dtypes: float64(3), object(1)\n",
            "memory usage: 1.1+ MB\n"
          ]
        }
      ],
      "source": [
        "df = pd.read_csv(os.path.join(pathDir, 'thailand_air_2023_month.csv'))\n",
        "df.info()"
      ]
    },
    {
      "cell_type": "code",
      "execution_count": null,
      "metadata": {
        "colab": {
          "base_uri": "https://localhost:8080/",
          "height": 206
        },
        "id": "cQd-VHoSVNEX",
        "outputId": "20f94bb3-8240-4532-997f-73a7e18b3ec5"
      },
      "outputs": [
        {
          "data": {
            "application/vnd.google.colaboratory.intrinsic+json": {
              "type": "dataframe",
              "variable_name": "df"
            },
            "text/html": [
              "\n",
              "  <div id=\"df-d673c0c2-f18e-481f-b7f6-8a40e9ab62d8\" class=\"colab-df-container\">\n",
              "    <div>\n",
              "<style scoped>\n",
              "    .dataframe tbody tr th:only-of-type {\n",
              "        vertical-align: middle;\n",
              "    }\n",
              "\n",
              "    .dataframe tbody tr th {\n",
              "        vertical-align: top;\n",
              "    }\n",
              "\n",
              "    .dataframe thead th {\n",
              "        text-align: right;\n",
              "    }\n",
              "</style>\n",
              "<table border=\"1\" class=\"dataframe\">\n",
              "  <thead>\n",
              "    <tr style=\"text-align: right;\">\n",
              "      <th></th>\n",
              "      <th>date</th>\n",
              "      <th>latitude</th>\n",
              "      <th>longitude</th>\n",
              "      <th>datetime</th>\n",
              "      <th>2m_temperatures_celcius</th>\n",
              "    </tr>\n",
              "  </thead>\n",
              "  <tbody>\n",
              "    <tr>\n",
              "      <th>246813</th>\n",
              "      <td>2022-12-31</td>\n",
              "      <td>20.37</td>\n",
              "      <td>97.96</td>\n",
              "      <td>2023-01-01</td>\n",
              "      <td>14.998932</td>\n",
              "    </tr>\n",
              "    <tr>\n",
              "      <th>246814</th>\n",
              "      <td>2022-12-31</td>\n",
              "      <td>20.37</td>\n",
              "      <td>98.06</td>\n",
              "      <td>2023-01-01</td>\n",
              "      <td>16.067780</td>\n",
              "    </tr>\n",
              "    <tr>\n",
              "      <th>246815</th>\n",
              "      <td>2022-12-31</td>\n",
              "      <td>20.37</td>\n",
              "      <td>98.16</td>\n",
              "      <td>2023-01-01</td>\n",
              "      <td>16.222565</td>\n",
              "    </tr>\n",
              "    <tr>\n",
              "      <th>246816</th>\n",
              "      <td>2022-12-31</td>\n",
              "      <td>20.37</td>\n",
              "      <td>98.26</td>\n",
              "      <td>2023-01-01</td>\n",
              "      <td>15.500397</td>\n",
              "    </tr>\n",
              "    <tr>\n",
              "      <th>246817</th>\n",
              "      <td>2022-12-31</td>\n",
              "      <td>20.37</td>\n",
              "      <td>98.36</td>\n",
              "      <td>2023-01-01</td>\n",
              "      <td>14.559967</td>\n",
              "    </tr>\n",
              "  </tbody>\n",
              "</table>\n",
              "</div>\n",
              "    <div class=\"colab-df-buttons\">\n",
              "\n",
              "  <div class=\"colab-df-container\">\n",
              "    <button class=\"colab-df-convert\" onclick=\"convertToInteractive('df-d673c0c2-f18e-481f-b7f6-8a40e9ab62d8')\"\n",
              "            title=\"Convert this dataframe to an interactive table.\"\n",
              "            style=\"display:none;\">\n",
              "\n",
              "  <svg xmlns=\"http://www.w3.org/2000/svg\" height=\"24px\" viewBox=\"0 -960 960 960\">\n",
              "    <path d=\"M120-120v-720h720v720H120Zm60-500h600v-160H180v160Zm220 220h160v-160H400v160Zm0 220h160v-160H400v160ZM180-400h160v-160H180v160Zm440 0h160v-160H620v160ZM180-180h160v-160H180v160Zm440 0h160v-160H620v160Z\"/>\n",
              "  </svg>\n",
              "    </button>\n",
              "\n",
              "  <style>\n",
              "    .colab-df-container {\n",
              "      display:flex;\n",
              "      gap: 12px;\n",
              "    }\n",
              "\n",
              "    .colab-df-convert {\n",
              "      background-color: #E8F0FE;\n",
              "      border: none;\n",
              "      border-radius: 50%;\n",
              "      cursor: pointer;\n",
              "      display: none;\n",
              "      fill: #1967D2;\n",
              "      height: 32px;\n",
              "      padding: 0 0 0 0;\n",
              "      width: 32px;\n",
              "    }\n",
              "\n",
              "    .colab-df-convert:hover {\n",
              "      background-color: #E2EBFA;\n",
              "      box-shadow: 0px 1px 2px rgba(60, 64, 67, 0.3), 0px 1px 3px 1px rgba(60, 64, 67, 0.15);\n",
              "      fill: #174EA6;\n",
              "    }\n",
              "\n",
              "    .colab-df-buttons div {\n",
              "      margin-bottom: 4px;\n",
              "    }\n",
              "\n",
              "    [theme=dark] .colab-df-convert {\n",
              "      background-color: #3B4455;\n",
              "      fill: #D2E3FC;\n",
              "    }\n",
              "\n",
              "    [theme=dark] .colab-df-convert:hover {\n",
              "      background-color: #434B5C;\n",
              "      box-shadow: 0px 1px 3px 1px rgba(0, 0, 0, 0.15);\n",
              "      filter: drop-shadow(0px 1px 2px rgba(0, 0, 0, 0.3));\n",
              "      fill: #FFFFFF;\n",
              "    }\n",
              "  </style>\n",
              "\n",
              "    <script>\n",
              "      const buttonEl =\n",
              "        document.querySelector('#df-d673c0c2-f18e-481f-b7f6-8a40e9ab62d8 button.colab-df-convert');\n",
              "      buttonEl.style.display =\n",
              "        google.colab.kernel.accessAllowed ? 'block' : 'none';\n",
              "\n",
              "      async function convertToInteractive(key) {\n",
              "        const element = document.querySelector('#df-d673c0c2-f18e-481f-b7f6-8a40e9ab62d8');\n",
              "        const dataTable =\n",
              "          await google.colab.kernel.invokeFunction('convertToInteractive',\n",
              "                                                    [key], {});\n",
              "        if (!dataTable) return;\n",
              "\n",
              "        const docLinkHtml = 'Like what you see? Visit the ' +\n",
              "          '<a target=\"_blank\" href=https://colab.research.google.com/notebooks/data_table.ipynb>data table notebook</a>'\n",
              "          + ' to learn more about interactive tables.';\n",
              "        element.innerHTML = '';\n",
              "        dataTable['output_type'] = 'display_data';\n",
              "        await google.colab.output.renderOutput(dataTable, element);\n",
              "        const docLink = document.createElement('div');\n",
              "        docLink.innerHTML = docLinkHtml;\n",
              "        element.appendChild(docLink);\n",
              "      }\n",
              "    </script>\n",
              "  </div>\n",
              "\n",
              "\n",
              "<div id=\"df-4262c675-bf70-4bc9-8e8b-99b439032f10\">\n",
              "  <button class=\"colab-df-quickchart\" onclick=\"quickchart('df-4262c675-bf70-4bc9-8e8b-99b439032f10')\"\n",
              "            title=\"Suggest charts\"\n",
              "            style=\"display:none;\">\n",
              "\n",
              "<svg xmlns=\"http://www.w3.org/2000/svg\" height=\"24px\"viewBox=\"0 0 24 24\"\n",
              "     width=\"24px\">\n",
              "    <g>\n",
              "        <path d=\"M19 3H5c-1.1 0-2 .9-2 2v14c0 1.1.9 2 2 2h14c1.1 0 2-.9 2-2V5c0-1.1-.9-2-2-2zM9 17H7v-7h2v7zm4 0h-2V7h2v10zm4 0h-2v-4h2v4z\"/>\n",
              "    </g>\n",
              "</svg>\n",
              "  </button>\n",
              "\n",
              "<style>\n",
              "  .colab-df-quickchart {\n",
              "      --bg-color: #E8F0FE;\n",
              "      --fill-color: #1967D2;\n",
              "      --hover-bg-color: #E2EBFA;\n",
              "      --hover-fill-color: #174EA6;\n",
              "      --disabled-fill-color: #AAA;\n",
              "      --disabled-bg-color: #DDD;\n",
              "  }\n",
              "\n",
              "  [theme=dark] .colab-df-quickchart {\n",
              "      --bg-color: #3B4455;\n",
              "      --fill-color: #D2E3FC;\n",
              "      --hover-bg-color: #434B5C;\n",
              "      --hover-fill-color: #FFFFFF;\n",
              "      --disabled-bg-color: #3B4455;\n",
              "      --disabled-fill-color: #666;\n",
              "  }\n",
              "\n",
              "  .colab-df-quickchart {\n",
              "    background-color: var(--bg-color);\n",
              "    border: none;\n",
              "    border-radius: 50%;\n",
              "    cursor: pointer;\n",
              "    display: none;\n",
              "    fill: var(--fill-color);\n",
              "    height: 32px;\n",
              "    padding: 0;\n",
              "    width: 32px;\n",
              "  }\n",
              "\n",
              "  .colab-df-quickchart:hover {\n",
              "    background-color: var(--hover-bg-color);\n",
              "    box-shadow: 0 1px 2px rgba(60, 64, 67, 0.3), 0 1px 3px 1px rgba(60, 64, 67, 0.15);\n",
              "    fill: var(--button-hover-fill-color);\n",
              "  }\n",
              "\n",
              "  .colab-df-quickchart-complete:disabled,\n",
              "  .colab-df-quickchart-complete:disabled:hover {\n",
              "    background-color: var(--disabled-bg-color);\n",
              "    fill: var(--disabled-fill-color);\n",
              "    box-shadow: none;\n",
              "  }\n",
              "\n",
              "  .colab-df-spinner {\n",
              "    border: 2px solid var(--fill-color);\n",
              "    border-color: transparent;\n",
              "    border-bottom-color: var(--fill-color);\n",
              "    animation:\n",
              "      spin 1s steps(1) infinite;\n",
              "  }\n",
              "\n",
              "  @keyframes spin {\n",
              "    0% {\n",
              "      border-color: transparent;\n",
              "      border-bottom-color: var(--fill-color);\n",
              "      border-left-color: var(--fill-color);\n",
              "    }\n",
              "    20% {\n",
              "      border-color: transparent;\n",
              "      border-left-color: var(--fill-color);\n",
              "      border-top-color: var(--fill-color);\n",
              "    }\n",
              "    30% {\n",
              "      border-color: transparent;\n",
              "      border-left-color: var(--fill-color);\n",
              "      border-top-color: var(--fill-color);\n",
              "      border-right-color: var(--fill-color);\n",
              "    }\n",
              "    40% {\n",
              "      border-color: transparent;\n",
              "      border-right-color: var(--fill-color);\n",
              "      border-top-color: var(--fill-color);\n",
              "    }\n",
              "    60% {\n",
              "      border-color: transparent;\n",
              "      border-right-color: var(--fill-color);\n",
              "    }\n",
              "    80% {\n",
              "      border-color: transparent;\n",
              "      border-right-color: var(--fill-color);\n",
              "      border-bottom-color: var(--fill-color);\n",
              "    }\n",
              "    90% {\n",
              "      border-color: transparent;\n",
              "      border-bottom-color: var(--fill-color);\n",
              "    }\n",
              "  }\n",
              "</style>\n",
              "\n",
              "  <script>\n",
              "    async function quickchart(key) {\n",
              "      const quickchartButtonEl =\n",
              "        document.querySelector('#' + key + ' button');\n",
              "      quickchartButtonEl.disabled = true;  // To prevent multiple clicks.\n",
              "      quickchartButtonEl.classList.add('colab-df-spinner');\n",
              "      try {\n",
              "        const charts = await google.colab.kernel.invokeFunction(\n",
              "            'suggestCharts', [key], {});\n",
              "      } catch (error) {\n",
              "        console.error('Error during call to suggestCharts:', error);\n",
              "      }\n",
              "      quickchartButtonEl.classList.remove('colab-df-spinner');\n",
              "      quickchartButtonEl.classList.add('colab-df-quickchart-complete');\n",
              "    }\n",
              "    (() => {\n",
              "      let quickchartButtonEl =\n",
              "        document.querySelector('#df-4262c675-bf70-4bc9-8e8b-99b439032f10 button');\n",
              "      quickchartButtonEl.style.display =\n",
              "        google.colab.kernel.accessAllowed ? 'block' : 'none';\n",
              "    })();\n",
              "  </script>\n",
              "</div>\n",
              "\n",
              "    </div>\n",
              "  </div>\n"
            ],
            "text/plain": [
              "             date  latitude  longitude   datetime  2m_temperatures_celcius\n",
              "246813 2022-12-31     20.37      97.96 2023-01-01                14.998932\n",
              "246814 2022-12-31     20.37      98.06 2023-01-01                16.067780\n",
              "246815 2022-12-31     20.37      98.16 2023-01-01                16.222565\n",
              "246816 2022-12-31     20.37      98.26 2023-01-01                15.500397\n",
              "246817 2022-12-31     20.37      98.36 2023-01-01                14.559967"
            ]
          },
          "execution_count": 6,
          "metadata": {},
          "output_type": "execute_result"
        }
      ],
      "source": [
        "df.head(5)"
      ]
    },
    {
      "cell_type": "code",
      "execution_count": null,
      "metadata": {
        "id": "CWYxmAHvQJk7"
      },
      "outputs": [],
      "source": [
        "def check_missing_data(folder_path):\n",
        "    \"\"\"\n",
        "    Проверяет все датасеты в указанной папке на наличие пропущенных данных.\n",
        "\n",
        "    :param folder_path: Путь до папки с датасетами.\n",
        "    \"\"\"\n",
        "    # Получаем список всех файлов в папке\n",
        "    files = os.listdir(folder_path)\n",
        "\n",
        "    # Проходим по каждому файлу\n",
        "    for file in files:\n",
        "        # Проверяем, что файл имеет расширение .parquet\n",
        "        if file.endswith('.parquet'):\n",
        "\n",
        "            file_path = os.path.join(folder_path, file)\n",
        "            print(f\"Проверка файла: {file}\")\n",
        "\n",
        "            # Загружаем датасет\n",
        "            df = pd.read_parquet(file_path)\n",
        "\n",
        "            # Проверяем наличие пропущенных данных\n",
        "            missing_data = df.isnull().sum()\n",
        "\n",
        "            if missing_data.any():\n",
        "                print(f\"Найдены пропущенные данные в файле {file}:\")\n",
        "                print(missing_data)\n",
        "            else:\n",
        "                print(f\"В файле {file} нет пропущенных данных.\")\n",
        "            print(\"\\n\" + \"=\"*50 + \"\\n\")"
      ]
    },
    {
      "cell_type": "code",
      "execution_count": null,
      "metadata": {
        "colab": {
          "base_uri": "https://localhost:8080/"
        },
        "id": "5Jyv7spOQM65",
        "outputId": "4d45df8f-f113-4b1e-ce86-8cc3d5af0cb1"
      },
      "outputs": [
        {
          "name": "stdout",
          "output_type": "stream",
          "text": [
            "Проверка файла: 2016_hourly_2m_land_temperatures_TH.parquet\n",
            "В файле 2016_hourly_2m_land_temperatures_TH.parquet нет пропущенных данных.\n",
            "\n",
            "==================================================\n",
            "\n",
            "Проверка файла: 2012_hourly_2m_land_temperatures_TH.parquet\n",
            "В файле 2012_hourly_2m_land_temperatures_TH.parquet нет пропущенных данных.\n",
            "\n",
            "==================================================\n",
            "\n",
            "Проверка файла: 2004_hourly_2m_land_temperatures_TH.parquet\n",
            "В файле 2004_hourly_2m_land_temperatures_TH.parquet нет пропущенных данных.\n",
            "\n",
            "==================================================\n",
            "\n",
            "Проверка файла: 2013_hourly_2m_land_temperatures_TH.parquet\n",
            "В файле 2013_hourly_2m_land_temperatures_TH.parquet нет пропущенных данных.\n",
            "\n",
            "==================================================\n",
            "\n",
            "Проверка файла: 2014_hourly_2m_land_temperatures_TH.parquet\n",
            "В файле 2014_hourly_2m_land_temperatures_TH.parquet нет пропущенных данных.\n",
            "\n",
            "==================================================\n",
            "\n",
            "Проверка файла: 2000_hourly_2m_land_temperatures_TH.parquet\n",
            "В файле 2000_hourly_2m_land_temperatures_TH.parquet нет пропущенных данных.\n",
            "\n",
            "==================================================\n",
            "\n",
            "Проверка файла: 2019_hourly_2m_land_temperatures_TH.parquet\n",
            "В файле 2019_hourly_2m_land_temperatures_TH.parquet нет пропущенных данных.\n",
            "\n",
            "==================================================\n",
            "\n",
            "Проверка файла: 2009_hourly_2m_land_temperatures_TH.parquet\n",
            "В файле 2009_hourly_2m_land_temperatures_TH.parquet нет пропущенных данных.\n",
            "\n",
            "==================================================\n",
            "\n",
            "Проверка файла: 2023_hourly_2m_land_temperatures_TH.parquet\n",
            "В файле 2023_hourly_2m_land_temperatures_TH.parquet нет пропущенных данных.\n",
            "\n",
            "==================================================\n",
            "\n",
            "Проверка файла: 2022_hourly_2m_land_temperatures_TH.parquet\n",
            "В файле 2022_hourly_2m_land_temperatures_TH.parquet нет пропущенных данных.\n",
            "\n",
            "==================================================\n",
            "\n",
            "Проверка файла: 2017_hourly_2m_land_temperatures_TH.parquet\n",
            "В файле 2017_hourly_2m_land_temperatures_TH.parquet нет пропущенных данных.\n",
            "\n",
            "==================================================\n",
            "\n",
            "Проверка файла: 2005_hourly_2m_land_temperatures_TH.parquet\n",
            "В файле 2005_hourly_2m_land_temperatures_TH.parquet нет пропущенных данных.\n",
            "\n",
            "==================================================\n",
            "\n",
            "Проверка файла: 2021_hourly_2m_land_temperatures_TH.parquet\n",
            "В файле 2021_hourly_2m_land_temperatures_TH.parquet нет пропущенных данных.\n",
            "\n",
            "==================================================\n",
            "\n",
            "Проверка файла: 2020_hourly_2m_land_temperatures_TH.parquet\n",
            "В файле 2020_hourly_2m_land_temperatures_TH.parquet нет пропущенных данных.\n",
            "\n",
            "==================================================\n",
            "\n",
            "Проверка файла: 2015_hourly_2m_land_temperatures_TH.parquet\n",
            "В файле 2015_hourly_2m_land_temperatures_TH.parquet нет пропущенных данных.\n",
            "\n",
            "==================================================\n",
            "\n",
            "Проверка файла: 2008_hourly_2m_land_temperatures_TH.parquet\n",
            "В файле 2008_hourly_2m_land_temperatures_TH.parquet нет пропущенных данных.\n",
            "\n",
            "==================================================\n",
            "\n",
            "Проверка файла: 2006_hourly_2m_land_temperatures_TH.parquet\n",
            "В файле 2006_hourly_2m_land_temperatures_TH.parquet нет пропущенных данных.\n",
            "\n",
            "==================================================\n",
            "\n",
            "Проверка файла: 2011_hourly_2m_land_temperatures_TH.parquet\n",
            "В файле 2011_hourly_2m_land_temperatures_TH.parquet нет пропущенных данных.\n",
            "\n",
            "==================================================\n",
            "\n",
            "Проверка файла: 2001_hourly_2m_land_temperatures_TH.parquet\n",
            "В файле 2001_hourly_2m_land_temperatures_TH.parquet нет пропущенных данных.\n",
            "\n",
            "==================================================\n",
            "\n",
            "Проверка файла: 2007_hourly_2m_land_temperatures_TH.parquet\n",
            "В файле 2007_hourly_2m_land_temperatures_TH.parquet нет пропущенных данных.\n",
            "\n",
            "==================================================\n",
            "\n",
            "Проверка файла: 2003_hourly_2m_land_temperatures_TH.parquet\n",
            "В файле 2003_hourly_2m_land_temperatures_TH.parquet нет пропущенных данных.\n",
            "\n",
            "==================================================\n",
            "\n",
            "Проверка файла: 2002_hourly_2m_land_temperatures_TH.parquet\n",
            "В файле 2002_hourly_2m_land_temperatures_TH.parquet нет пропущенных данных.\n",
            "\n",
            "==================================================\n",
            "\n",
            "Проверка файла: 2018_hourly_2m_land_temperatures_TH.parquet\n",
            "В файле 2018_hourly_2m_land_temperatures_TH.parquet нет пропущенных данных.\n",
            "\n",
            "==================================================\n",
            "\n",
            "Проверка файла: 2010_hourly_2m_land_temperatures_TH.parquet\n",
            "В файле 2010_hourly_2m_land_temperatures_TH.parquet нет пропущенных данных.\n",
            "\n",
            "==================================================\n",
            "\n"
          ]
        }
      ],
      "source": [
        "check_missing_data(pathDir)"
      ]
    },
    {
      "cell_type": "code",
      "execution_count": null,
      "metadata": {
        "colab": {
          "base_uri": "https://localhost:8080/"
        },
        "id": "WGhiaBfzbkqO",
        "outputId": "a59f5d4c-655b-49e0-f857-ba0d5b69b358"
      },
      "outputs": [
        {
          "name": "stdout",
          "output_type": "stream",
          "text": [
            "Min date: 2022-12-31 00:00:00\n",
            "Max date: 2023-05-09 00:00:00\n"
          ]
        }
      ],
      "source": [
        "print(f'Min date: {df.date.min()}')\n",
        "print(f'Max date: {df.date.max()}')"
      ]
    },
    {
      "cell_type": "code",
      "execution_count": 23,
      "metadata": {
        "colab": {
          "base_uri": "https://localhost:8080/",
          "height": 619
        },
        "id": "ENSlKOJ_cZ6t",
        "outputId": "1bbf2da6-bb1a-4ad3-dd6a-0e770eec4023"
      },
      "outputs": [
        {
          "name": "stderr",
          "output_type": "stream",
          "text": [
            "/tmp/ipykernel_16534/3153163064.py:8: UserWarning: No artists with labels found to put in legend.  Note that artists whose label start with an underscore are ignored when legend() is called with no argument.\n",
            "  plt.legend()\n"
          ]
        },
        {
          "data": {
            "image/png": "[encoded data removed]",
            "text/plain": [
              "<Figure size 1000x600 with 1 Axes>"
            ]
          },
          "metadata": {},
          "output_type": "display_data"
        }
      ],
      "source": [
        "plt.figure(figsize=(10, 6))\n",
        "plt.scatter(df.longitude, df.latitude, c='red', marker='o')\n",
        "\n",
        "# Настройка графика\n",
        "plt.title('Визуализация координат')\n",
        "plt.xlabel('Долгота')\n",
        "plt.ylabel('Широта')\n",
        "plt.legend()\n",
        "plt.grid(True)\n",
        "plt.show()"
      ]
    },
    {
      "cell_type": "code",
      "execution_count": 4,
      "metadata": {
        "id": "t5eXIGNLIffz"
      },
      "outputs": [],
      "source": [
        "df = df.sort_values(['latitude', 'longitude'])"
      ]
    },
    {
      "cell_type": "code",
      "execution_count": 5,
      "metadata": {
        "colab": {
          "base_uri": "https://localhost:8080/"
        },
        "id": "PXFtN3RQKODK",
        "outputId": "57baa9e9-ba84-46d1-a32b-111f7ecc989a"
      },
      "outputs": [
        {
          "name": "stdout",
          "output_type": "stream",
          "text": [
            "             date  latitude  longitude  temperatures\n",
            "0      2022-12-31      5.77     100.46     21.721588\n",
            "6998   2023-01-01      5.77     100.46     25.781321\n",
            "13996  2023-01-02      5.77     100.46     26.110586\n",
            "20994  2023-01-03      5.77     100.46     26.219748\n",
            "27992  2023-01-04      5.77     100.46     25.489676\n",
            "...           ...       ...        ...           ...\n",
            "881747 2023-05-05     20.37     105.16     30.171957\n",
            "888745 2023-05-06     20.37     105.16     30.925314\n",
            "895743 2023-05-07     20.37     105.16     29.551096\n",
            "902741 2023-05-08     20.37     105.16     22.791880\n",
            "909739 2023-05-09     20.37     105.16     24.094917\n",
            "\n",
            "[909740 rows x 4 columns]\n"
          ]
        }
      ],
      "source": [
        "# Группируем по date, latitude, longitude и считаем среднее значение\n",
        "result = df.groupby(['date', 'latitude', 'longitude'], as_index=False)['2m_temperatures_celcius'].mean()\n",
        "\n",
        "# Переименовываем колонку\n",
        "result = result.rename(columns={'2m_temperatures_celcius': 'temperatures'}).sort_values(['latitude', 'longitude'])\n",
        "\n",
        "# Результат\n",
        "print(result)"
      ]
    },
    {
      "cell_type": "code",
      "execution_count": 6,
      "metadata": {
        "id": "w7q3EcQwRt1d"
      },
      "outputs": [],
      "source": [
        "# Оставляем первую запись в месяце\n",
        "df_final = result[result['date'].dt.day == 1]"
      ]
    },
    {
      "cell_type": "code",
      "execution_count": 14,
      "metadata": {
        "colab": {
          "base_uri": "https://localhost:8080/",
          "height": 424
        },
        "id": "pN4T7m2OHNh7",
        "outputId": "b3267d31-65e5-4927-9153-1305645671e7"
      },
      "outputs": [
        {
          "data": {
            "application/vnd.google.colaboratory.intrinsic+json": {
              "type": "dataframe",
              "variable_name": "df_final"
            },
            "text/html": [
              "\n",
              "  <div id=\"df-10844e5f-ddd6-45c3-a0d8-4580e4e8b192\" class=\"colab-df-container\">\n",
              "    <div>\n",
              "<style scoped>\n",
              "    .dataframe tbody tr th:only-of-type {\n",
              "        vertical-align: middle;\n",
              "    }\n",
              "\n",
              "    .dataframe tbody tr th {\n",
              "        vertical-align: top;\n",
              "    }\n",
              "\n",
              "    .dataframe thead th {\n",
              "        text-align: right;\n",
              "    }\n",
              "</style>\n",
              "<table border=\"1\" class=\"dataframe\">\n",
              "  <thead>\n",
              "    <tr style=\"text-align: right;\">\n",
              "      <th></th>\n",
              "      <th>date</th>\n",
              "      <th>latitude</th>\n",
              "      <th>longitude</th>\n",
              "      <th>temperatures</th>\n",
              "    </tr>\n",
              "  </thead>\n",
              "  <tbody>\n",
              "    <tr>\n",
              "      <th>0</th>\n",
              "      <td>2022-12-31</td>\n",
              "      <td>5.77</td>\n",
              "      <td>100.46</td>\n",
              "      <td>21.721588</td>\n",
              "    </tr>\n",
              "    <tr>\n",
              "      <th>48986</th>\n",
              "      <td>2023-01-07</td>\n",
              "      <td>5.77</td>\n",
              "      <td>100.46</td>\n",
              "      <td>24.139069</td>\n",
              "    </tr>\n",
              "    <tr>\n",
              "      <th>97972</th>\n",
              "      <td>2023-01-14</td>\n",
              "      <td>5.77</td>\n",
              "      <td>100.46</td>\n",
              "      <td>26.068939</td>\n",
              "    </tr>\n",
              "    <tr>\n",
              "      <th>146958</th>\n",
              "      <td>2023-01-21</td>\n",
              "      <td>5.77</td>\n",
              "      <td>100.46</td>\n",
              "      <td>24.851664</td>\n",
              "    </tr>\n",
              "    <tr>\n",
              "      <th>195944</th>\n",
              "      <td>2023-01-28</td>\n",
              "      <td>5.77</td>\n",
              "      <td>100.46</td>\n",
              "      <td>25.236124</td>\n",
              "    </tr>\n",
              "    <tr>\n",
              "      <th>...</th>\n",
              "      <td>...</td>\n",
              "      <td>...</td>\n",
              "      <td>...</td>\n",
              "      <td>...</td>\n",
              "    </tr>\n",
              "    <tr>\n",
              "      <th>678805</th>\n",
              "      <td>2023-04-06</td>\n",
              "      <td>20.37</td>\n",
              "      <td>105.16</td>\n",
              "      <td>25.618774</td>\n",
              "    </tr>\n",
              "    <tr>\n",
              "      <th>727791</th>\n",
              "      <td>2023-04-13</td>\n",
              "      <td>20.37</td>\n",
              "      <td>105.16</td>\n",
              "      <td>25.221567</td>\n",
              "    </tr>\n",
              "    <tr>\n",
              "      <th>776777</th>\n",
              "      <td>2023-04-20</td>\n",
              "      <td>20.37</td>\n",
              "      <td>105.16</td>\n",
              "      <td>28.111460</td>\n",
              "    </tr>\n",
              "    <tr>\n",
              "      <th>825763</th>\n",
              "      <td>2023-04-27</td>\n",
              "      <td>20.37</td>\n",
              "      <td>105.16</td>\n",
              "      <td>24.029236</td>\n",
              "    </tr>\n",
              "    <tr>\n",
              "      <th>874749</th>\n",
              "      <td>2023-05-04</td>\n",
              "      <td>20.37</td>\n",
              "      <td>105.16</td>\n",
              "      <td>28.100433</td>\n",
              "    </tr>\n",
              "  </tbody>\n",
              "</table>\n",
              "<p>129963 rows × 4 columns</p>\n",
              "</div>\n",
              "    <div class=\"colab-df-buttons\">\n",
              "\n",
              "  <div class=\"colab-df-container\">\n",
              "    <button class=\"colab-df-convert\" onclick=\"convertToInteractive('df-10844e5f-ddd6-45c3-a0d8-4580e4e8b192')\"\n",
              "            title=\"Convert this dataframe to an interactive table.\"\n",
              "            style=\"display:none;\">\n",
              "\n",
              "  <svg xmlns=\"http://www.w3.org/2000/svg\" height=\"24px\" viewBox=\"0 -960 960 960\">\n",
              "    <path d=\"M120-120v-720h720v720H120Zm60-500h600v-160H180v160Zm220 220h160v-160H400v160Zm0 220h160v-160H400v160ZM180-400h160v-160H180v160Zm440 0h160v-160H620v160ZM180-180h160v-160H180v160Zm440 0h160v-160H620v160Z\"/>\n",
              "  </svg>\n",
              "    </button>\n",
              "\n",
              "  <style>\n",
              "    .colab-df-container {\n",
              "      display:flex;\n",
              "      gap: 12px;\n",
              "    }\n",
              "\n",
              "    .colab-df-convert {\n",
              "      background-color: #E8F0FE;\n",
              "      border: none;\n",
              "      border-radius: 50%;\n",
              "      cursor: pointer;\n",
              "      display: none;\n",
              "      fill: #1967D2;\n",
              "      height: 32px;\n",
              "      padding: 0 0 0 0;\n",
              "      width: 32px;\n",
              "    }\n",
              "\n",
              "    .colab-df-convert:hover {\n",
              "      background-color: #E2EBFA;\n",
              "      box-shadow: 0px 1px 2px rgba(60, 64, 67, 0.3), 0px 1px 3px 1px rgba(60, 64, 67, 0.15);\n",
              "      fill: #174EA6;\n",
              "    }\n",
              "\n",
              "    .colab-df-buttons div {\n",
              "      margin-bottom: 4px;\n",
              "    }\n",
              "\n",
              "    [theme=dark] .colab-df-convert {\n",
              "      background-color: #3B4455;\n",
              "      fill: #D2E3FC;\n",
              "    }\n",
              "\n",
              "    [theme=dark] .colab-df-convert:hover {\n",
              "      background-color: #434B5C;\n",
              "      box-shadow: 0px 1px 3px 1px rgba(0, 0, 0, 0.15);\n",
              "      filter: drop-shadow(0px 1px 2px rgba(0, 0, 0, 0.3));\n",
              "      fill: #FFFFFF;\n",
              "    }\n",
              "  </style>\n",
              "\n",
              "    <script>\n",
              "      const buttonEl =\n",
              "        document.querySelector('#df-10844e5f-ddd6-45c3-a0d8-4580e4e8b192 button.colab-df-convert');\n",
              "      buttonEl.style.display =\n",
              "        google.colab.kernel.accessAllowed ? 'block' : 'none';\n",
              "\n",
              "      async function convertToInteractive(key) {\n",
              "        const element = document.querySelector('#df-10844e5f-ddd6-45c3-a0d8-4580e4e8b192');\n",
              "        const dataTable =\n",
              "          await google.colab.kernel.invokeFunction('convertToInteractive',\n",
              "                                                    [key], {});\n",
              "        if (!dataTable) return;\n",
              "\n",
              "        const docLinkHtml = 'Like what you see? Visit the ' +\n",
              "          '<a target=\"_blank\" href=https://colab.research.google.com/notebooks/data_table.ipynb>data table notebook</a>'\n",
              "          + ' to learn more about interactive tables.';\n",
              "        element.innerHTML = '';\n",
              "        dataTable['output_type'] = 'display_data';\n",
              "        await google.colab.output.renderOutput(dataTable, element);\n",
              "        const docLink = document.createElement('div');\n",
              "        docLink.innerHTML = docLinkHtml;\n",
              "        element.appendChild(docLink);\n",
              "      }\n",
              "    </script>\n",
              "  </div>\n",
              "\n",
              "\n",
              "<div id=\"df-90b6dda1-8451-4d93-a23d-cd57c2b03d12\">\n",
              "  <button class=\"colab-df-quickchart\" onclick=\"quickchart('df-90b6dda1-8451-4d93-a23d-cd57c2b03d12')\"\n",
              "            title=\"Suggest charts\"\n",
              "            style=\"display:none;\">\n",
              "\n",
              "<svg xmlns=\"http://www.w3.org/2000/svg\" height=\"24px\"viewBox=\"0 0 24 24\"\n",
              "     width=\"24px\">\n",
              "    <g>\n",
              "        <path d=\"M19 3H5c-1.1 0-2 .9-2 2v14c0 1.1.9 2 2 2h14c1.1 0 2-.9 2-2V5c0-1.1-.9-2-2-2zM9 17H7v-7h2v7zm4 0h-2V7h2v10zm4 0h-2v-4h2v4z\"/>\n",
              "    </g>\n",
              "</svg>\n",
              "  </button>\n",
              "\n",
              "<style>\n",
              "  .colab-df-quickchart {\n",
              "      --bg-color: #E8F0FE;\n",
              "      --fill-color: #1967D2;\n",
              "      --hover-bg-color: #E2EBFA;\n",
              "      --hover-fill-color: #174EA6;\n",
              "      --disabled-fill-color: #AAA;\n",
              "      --disabled-bg-color: #DDD;\n",
              "  }\n",
              "\n",
              "  [theme=dark] .colab-df-quickchart {\n",
              "      --bg-color: #3B4455;\n",
              "      --fill-color: #D2E3FC;\n",
              "      --hover-bg-color: #434B5C;\n",
              "      --hover-fill-color: #FFFFFF;\n",
              "      --disabled-bg-color: #3B4455;\n",
              "      --disabled-fill-color: #666;\n",
              "  }\n",
              "\n",
              "  .colab-df-quickchart {\n",
              "    background-color: var(--bg-color);\n",
              "    border: none;\n",
              "    border-radius: 50%;\n",
              "    cursor: pointer;\n",
              "    display: none;\n",
              "    fill: var(--fill-color);\n",
              "    height: 32px;\n",
              "    padding: 0;\n",
              "    width: 32px;\n",
              "  }\n",
              "\n",
              "  .colab-df-quickchart:hover {\n",
              "    background-color: var(--hover-bg-color);\n",
              "    box-shadow: 0 1px 2px rgba(60, 64, 67, 0.3), 0 1px 3px 1px rgba(60, 64, 67, 0.15);\n",
              "    fill: var(--button-hover-fill-color);\n",
              "  }\n",
              "\n",
              "  .colab-df-quickchart-complete:disabled,\n",
              "  .colab-df-quickchart-complete:disabled:hover {\n",
              "    background-color: var(--disabled-bg-color);\n",
              "    fill: var(--disabled-fill-color);\n",
              "    box-shadow: none;\n",
              "  }\n",
              "\n",
              "  .colab-df-spinner {\n",
              "    border: 2px solid var(--fill-color);\n",
              "    border-color: transparent;\n",
              "    border-bottom-color: var(--fill-color);\n",
              "    animation:\n",
              "      spin 1s steps(1) infinite;\n",
              "  }\n",
              "\n",
              "  @keyframes spin {\n",
              "    0% {\n",
              "      border-color: transparent;\n",
              "      border-bottom-color: var(--fill-color);\n",
              "      border-left-color: var(--fill-color);\n",
              "    }\n",
              "    20% {\n",
              "      border-color: transparent;\n",
              "      border-left-color: var(--fill-color);\n",
              "      border-top-color: var(--fill-color);\n",
              "    }\n",
              "    30% {\n",
              "      border-color: transparent;\n",
              "      border-left-color: var(--fill-color);\n",
              "      border-top-color: var(--fill-color);\n",
              "      border-right-color: var(--fill-color);\n",
              "    }\n",
              "    40% {\n",
              "      border-color: transparent;\n",
              "      border-right-color: var(--fill-color);\n",
              "      border-top-color: var(--fill-color);\n",
              "    }\n",
              "    60% {\n",
              "      border-color: transparent;\n",
              "      border-right-color: var(--fill-color);\n",
              "    }\n",
              "    80% {\n",
              "      border-color: transparent;\n",
              "      border-right-color: var(--fill-color);\n",
              "      border-bottom-color: var(--fill-color);\n",
              "    }\n",
              "    90% {\n",
              "      border-color: transparent;\n",
              "      border-bottom-color: var(--fill-color);\n",
              "    }\n",
              "  }\n",
              "</style>\n",
              "\n",
              "  <script>\n",
              "    async function quickchart(key) {\n",
              "      const quickchartButtonEl =\n",
              "        document.querySelector('#' + key + ' button');\n",
              "      quickchartButtonEl.disabled = true;  // To prevent multiple clicks.\n",
              "      quickchartButtonEl.classList.add('colab-df-spinner');\n",
              "      try {\n",
              "        const charts = await google.colab.kernel.invokeFunction(\n",
              "            'suggestCharts', [key], {});\n",
              "      } catch (error) {\n",
              "        console.error('Error during call to suggestCharts:', error);\n",
              "      }\n",
              "      quickchartButtonEl.classList.remove('colab-df-spinner');\n",
              "      quickchartButtonEl.classList.add('colab-df-quickchart-complete');\n",
              "    }\n",
              "    (() => {\n",
              "      let quickchartButtonEl =\n",
              "        document.querySelector('#df-90b6dda1-8451-4d93-a23d-cd57c2b03d12 button');\n",
              "      quickchartButtonEl.style.display =\n",
              "        google.colab.kernel.accessAllowed ? 'block' : 'none';\n",
              "    })();\n",
              "  </script>\n",
              "</div>\n",
              "    </div>\n",
              "  </div>\n"
            ],
            "text/plain": [
              "             date  latitude  longitude  temperatures\n",
              "0      2022-12-31      5.77     100.46     21.721588\n",
              "48986  2023-01-07      5.77     100.46     24.139069\n",
              "97972  2023-01-14      5.77     100.46     26.068939\n",
              "146958 2023-01-21      5.77     100.46     24.851664\n",
              "195944 2023-01-28      5.77     100.46     25.236124\n",
              "...           ...       ...        ...           ...\n",
              "678805 2023-04-06     20.37     105.16     25.618774\n",
              "727791 2023-04-13     20.37     105.16     25.221567\n",
              "776777 2023-04-20     20.37     105.16     28.111460\n",
              "825763 2023-04-27     20.37     105.16     24.029236\n",
              "874749 2023-05-04     20.37     105.16     28.100433\n",
              "\n",
              "[129963 rows x 4 columns]"
            ]
          },
          "execution_count": 14,
          "metadata": {},
          "output_type": "execute_result"
        }
      ],
      "source": [
        "# Оставляем каждую седьмую запись\n",
        "df_final = result.iloc[::7]\n",
        "df_final"
      ]
    },
    {
      "cell_type": "code",
      "execution_count": 7,
      "metadata": {
        "id": "COxEXX4SSOgQ"
      },
      "outputs": [],
      "source": [
        "df_final.to_csv('/content/drive/MyDrive/maga/data_mining/datasets/thailand_air_2023_month.csv', index=False)"
      ]
    },
    {
      "cell_type": "code",
      "execution_count": 15,
      "metadata": {
        "id": "0cZPMZj20yCx"
      },
      "outputs": [],
      "source": [
        "df_final.to_csv('/content/drive/MyDrive/maga/data_mining/datasets/thailand_air_2023_weekly.csv', index=False)"
      ]
    },
    {
      "cell_type": "code",
      "execution_count": 25,
      "metadata": {
        "id": "Xe4S0PQqxRfE"
      },
      "outputs": [],
      "source": [
        "# Удаление дубликатов по парам latitude и longitude\n",
        "unique_pairs = df[['latitude', 'longitude']].drop_duplicates()"
      ]
    },
    {
      "cell_type": "code",
      "execution_count": 27,
      "metadata": {
        "colab": {
          "base_uri": "https://localhost:8080/",
          "height": 313
        },
        "id": "zwI5XWe2qpcY",
        "outputId": "9ca7da95-498e-41e2-bc8d-942f6bb15cad"
      },
      "outputs": [
        {
          "data": {
            "image/png": "[encoded data removed]",
            "text/plain": [
              "<Figure size 2500x1000 with 4 Axes>"
            ]
          },
          "metadata": {},
          "output_type": "display_data"
        }
      ],
      "source": [
        "# Ограничиваем количество графиков\n",
        "N = 4  # Количество графиков, которые вы хотите отобразить\n",
        "unique_pairs = unique_pairs[:N]\n",
        "\n",
        "# Создаем сетку графиков\n",
        "ncols = 2  # Количество столбцов\n",
        "nrows = (len(unique_pairs) + ncols - 1) // ncols  # Количество строк\n",
        "fig, axes = plt.subplots(ncols=ncols, nrows=nrows, tight_layout=True, figsize=(25, 5 * nrows))\n",
        "\n",
        "if nrows == 1:\n",
        "    axes = axes.reshape(1, -1)\n",
        "\n",
        "# Построение графиков\n",
        "for ax, (latitude, longitude) in zip(axes.flat, unique_pairs.itertuples(index=False)):\n",
        "    df_location = df[(df.latitude == latitude) & (df.longitude == longitude)]\n",
        "    ax.plot(df_location.date, df_location['temperatures'], marker='.', color='k', linewidth=1)\n",
        "    ax.set_title(f'Lat: {latitude:.2f}, Lon: {longitude:.2f}')\n",
        "    ax.set_xlabel('Date')\n",
        "    ax.set_ylabel('Temperature')\n",
        "\n",
        "# Удаление пустых графиков, если количество графиков меньше, чем nrows * ncols\n",
        "for ax in axes.flat[len(unique_pairs):]:\n",
        "    ax.remove()\n",
        "\n",
        "plt.show()"
      ]
    },
    {
      "cell_type": "code",
      "execution_count": 28,
      "metadata": {
        "id": "_YFmzml0pan_"
      },
      "outputs": [],
      "source": [
        "# Подготовка train и test выборок\n",
        "\n",
        "df_final = df.sort_values(['date', 'latitude', 'longitude'])\n",
        "\n",
        "# Вычисление количества строк для последних 15%\n",
        "n_rows = len(df_final)\n",
        "last_15_percent = int(n_rows * 0.15)\n",
        "\n",
        "df_test = df_final.iloc[-last_15_percent:]\n",
        "\n",
        "df_train = df_final.iloc[:-last_15_percent]"
      ]
    },
    {
      "cell_type": "code",
      "execution_count": 29,
      "metadata": {
        "colab": {
          "base_uri": "https://localhost:8080/",
          "height": 52
        },
        "id": "6IqOYEm9uGQA",
        "outputId": "305c0979-ac75-49a1-cfc1-97c305e62149"
      },
      "outputs": [
        {
          "data": {
            "text/plain": [
              "(29742, 4)"
            ]
          },
          "metadata": {},
          "output_type": "display_data"
        },
        {
          "data": {
            "text/plain": [
              "(5248, 4)"
            ]
          },
          "metadata": {},
          "output_type": "display_data"
        }
      ],
      "source": [
        "display(df_train.shape, df_test.shape)"
      ]
    },
    {
      "cell_type": "code",
      "execution_count": 39,
      "metadata": {
        "id": "ZTBle_8KuU6V"
      },
      "outputs": [],
      "source": [
        "from bayesnf.spatiotemporal import BayesianNeuralFieldMAP\n",
        "\n",
        "model = BayesianNeuralFieldMAP(\n",
        "    width=256,\n",
        "    depth=2,\n",
        "    freq='M',\n",
        "    seasonality_periods=['Y'],\n",
        "    num_seasonal_harmonics=[0],\n",
        "    feature_cols=['date', 'latitude', 'longitude'],\n",
        "    target_col='temperatures',\n",
        "    observation_model='NORMAL',\n",
        "    timetype='index',\n",
        "    standardize=['latitude', 'longitude'],\n",
        "    interactions=[(0, 1), (0, 2), (1, 2)],\n",
        ")"
      ]
    },
    {
      "cell_type": "code",
      "execution_count": 41,
      "metadata": {
        "colab": {
          "base_uri": "https://localhost:8080/"
        },
        "id": "DZY-85XDu25T",
        "outputId": "a57fbe6f-0007-4be9-b752-892a1f6cf0b9"
      },
      "outputs": [
        {
          "name": "stderr",
          "output_type": "stream",
          "text": [
            "/tmp/ipykernel_16534/1451325051.py:1: SettingWithCopyWarning: \n",
            "A value is trying to be set on a copy of a slice from a DataFrame.\n",
            "Try using .loc[row_indexer,col_indexer] = value instead\n",
            "\n",
            "See the caveats in the documentation: https://pandas.pydata.org/pandas-docs/stable/user_guide/indexing.html#returning-a-view-versus-a-copy\n",
            "  df_train['date'] = pd.to_datetime(df_train['date'])\n",
            "/home/artem/projects/data_mining/.venv/lib/python3.10/site-packages/bayesnf/spatiotemporal.py:52: FutureWarning: 'Y' is deprecated and will be removed in a future version, please use 'YE' instead.\n",
            "  four_years = pd.date_range('2020-01-01', periods=5, freq='Y')\n"
          ]
        },
        {
          "ename": "XlaRuntimeError",
          "evalue": "FAILED_PRECONDITION: Buffer Definition Event: Error preparing computation: %sOut of memory allocating 24316320544 bytes.",
          "output_type": "error",
          "traceback": [
            "\u001b[0;31m---------------------------------------------------------------------------\u001b[0m",
            "\u001b[0;31mXlaRuntimeError\u001b[0m                           Traceback (most recent call last)",
            "Cell \u001b[0;32mIn[41], line 3\u001b[0m\n\u001b[1;32m      1\u001b[0m df_train[\u001b[38;5;124m'\u001b[39m\u001b[38;5;124mdate\u001b[39m\u001b[38;5;124m'\u001b[39m] \u001b[38;5;241m=\u001b[39m pd\u001b[38;5;241m.\u001b[39mto_datetime(df_train[\u001b[38;5;124m'\u001b[39m\u001b[38;5;124mdate\u001b[39m\u001b[38;5;124m'\u001b[39m])\n\u001b[0;32m----> 3\u001b[0m model \u001b[38;5;241m=\u001b[39m \u001b[43mmodel\u001b[49m\u001b[38;5;241;43m.\u001b[39;49m\u001b[43mfit\u001b[49m\u001b[43m(\u001b[49m\n\u001b[1;32m      4\u001b[0m \u001b[43m    \u001b[49m\u001b[43mdf_train\u001b[49m\u001b[43m,\u001b[49m\n\u001b[1;32m      5\u001b[0m \u001b[43m    \u001b[49m\u001b[43mseed\u001b[49m\u001b[38;5;241;43m=\u001b[39;49m\u001b[43mjax\u001b[49m\u001b[38;5;241;43m.\u001b[39;49m\u001b[43mrandom\u001b[49m\u001b[38;5;241;43m.\u001b[39;49m\u001b[43mPRNGKey\u001b[49m\u001b[43m(\u001b[49m\u001b[38;5;241;43m0\u001b[39;49m\u001b[43m)\u001b[49m\u001b[43m,\u001b[49m\n\u001b[1;32m      6\u001b[0m \u001b[43m    \u001b[49m\u001b[43mensemble_size\u001b[49m\u001b[38;5;241;43m=\u001b[39;49m\u001b[38;5;241;43m64\u001b[39;49m\u001b[43m,\u001b[49m\n\u001b[1;32m      7\u001b[0m \u001b[43m    \u001b[49m\u001b[43mnum_epochs\u001b[49m\u001b[38;5;241;43m=\u001b[39;49m\u001b[38;5;241;43m1000\u001b[39;49m\u001b[43m,\u001b[49m\n\u001b[1;32m      8\u001b[0m \u001b[43m)\u001b[49m\n",
            "File \u001b[0;32m~/projects/data_mining/.venv/lib/python3.10/site-packages/bayesnf/spatiotemporal.py:529\u001b[0m, in \u001b[0;36mBayesianNeuralFieldMAP.fit\u001b[0;34m(self, table, seed, ensemble_size, learning_rate, num_epochs, batch_size, num_splits)\u001b[0m\n\u001b[1;32m    527\u001b[0m   num_epochs \u001b[38;5;241m=\u001b[39m num_epochs \u001b[38;5;241m*\u001b[39m (train_data\u001b[38;5;241m.\u001b[39mshape[\u001b[38;5;241m0\u001b[39m] \u001b[38;5;241m/\u001b[39m\u001b[38;5;241m/\u001b[39m batch_size)\n\u001b[1;32m    528\u001b[0m model_args \u001b[38;5;241m=\u001b[39m \u001b[38;5;28mself\u001b[39m\u001b[38;5;241m.\u001b[39m_model_args((batch_size, train_data\u001b[38;5;241m.\u001b[39mshape[\u001b[38;5;241m-\u001b[39m\u001b[38;5;241m1\u001b[39m]))\n\u001b[0;32m--> 529\u001b[0m \u001b[38;5;28mself\u001b[39m\u001b[38;5;241m.\u001b[39mparams_, \u001b[38;5;28mself\u001b[39m\u001b[38;5;241m.\u001b[39mlosses_ \u001b[38;5;241m=\u001b[39m \u001b[43minference\u001b[49m\u001b[38;5;241;43m.\u001b[39;49m\u001b[43mfit_map\u001b[49m\u001b[43m(\u001b[49m\n\u001b[1;32m    530\u001b[0m \u001b[43m    \u001b[49m\u001b[43mtrain_data\u001b[49m\u001b[43m,\u001b[49m\n\u001b[1;32m    531\u001b[0m \u001b[43m    \u001b[49m\u001b[43mtrain_target\u001b[49m\u001b[43m,\u001b[49m\n\u001b[1;32m    532\u001b[0m \u001b[43m    \u001b[49m\u001b[43mseed\u001b[49m\u001b[38;5;241;43m=\u001b[39;49m\u001b[43mseed\u001b[49m\u001b[43m,\u001b[49m\n\u001b[1;32m    533\u001b[0m \u001b[43m    \u001b[49m\u001b[43mobservation_model\u001b[49m\u001b[38;5;241;43m=\u001b[39;49m\u001b[38;5;28;43mself\u001b[39;49m\u001b[38;5;241;43m.\u001b[39;49m\u001b[43mobservation_model\u001b[49m\u001b[43m,\u001b[49m\n\u001b[1;32m    534\u001b[0m \u001b[43m    \u001b[49m\u001b[43mmodel_args\u001b[49m\u001b[38;5;241;43m=\u001b[39;49m\u001b[43mmodel_args\u001b[49m\u001b[43m,\u001b[49m\n\u001b[1;32m    535\u001b[0m \u001b[43m    \u001b[49m\u001b[43mnum_particles\u001b[49m\u001b[38;5;241;43m=\u001b[39;49m\u001b[43mensemble_size\u001b[49m\u001b[43m,\u001b[49m\n\u001b[1;32m    536\u001b[0m \u001b[43m    \u001b[49m\u001b[43mlearning_rate\u001b[49m\u001b[38;5;241;43m=\u001b[39;49m\u001b[43mlearning_rate\u001b[49m\u001b[43m,\u001b[49m\n\u001b[1;32m    537\u001b[0m \u001b[43m    \u001b[49m\u001b[43mnum_epochs\u001b[49m\u001b[38;5;241;43m=\u001b[39;49m\u001b[43mnum_epochs\u001b[49m\u001b[43m,\u001b[49m\n\u001b[1;32m    538\u001b[0m \u001b[43m    \u001b[49m\u001b[43mprior_weight\u001b[49m\u001b[38;5;241;43m=\u001b[39;49m\u001b[38;5;28;43mself\u001b[39;49m\u001b[38;5;241;43m.\u001b[39;49m\u001b[43m_prior_weight\u001b[49m\u001b[43m,\u001b[49m\n\u001b[1;32m    539\u001b[0m \u001b[43m    \u001b[49m\u001b[43mbatch_size\u001b[49m\u001b[38;5;241;43m=\u001b[39;49m\u001b[43mbatch_size\u001b[49m\u001b[43m,\u001b[49m\n\u001b[1;32m    540\u001b[0m \u001b[43m    \u001b[49m\u001b[43mnum_splits\u001b[49m\u001b[38;5;241;43m=\u001b[39;49m\u001b[43mnum_splits\u001b[49m\u001b[43m)\u001b[49m\n\u001b[1;32m    541\u001b[0m \u001b[38;5;28;01mreturn\u001b[39;00m \u001b[38;5;28mself\u001b[39m\n",
            "File \u001b[0;32m~/projects/data_mining/.venv/lib/python3.10/site-packages/bayesnf/inference.py:452\u001b[0m, in \u001b[0;36mfit_map\u001b[0;34m(features, target, seed, observation_model, model_args, num_particles, learning_rate, num_epochs, prior_weight, batch_size, num_splits)\u001b[0m\n\u001b[1;32m    438\u001b[0m     seed_i \u001b[38;5;241m=\u001b[39m seed\n\u001b[1;32m    439\u001b[0m   params_i, losses_i \u001b[38;5;241m=\u001b[39m ensemble_map(\n\u001b[1;32m    440\u001b[0m       features,\n\u001b[1;32m    441\u001b[0m       target,\n\u001b[0;32m   (...)\u001b[0m\n\u001b[1;32m    450\u001b[0m       prior_weight\u001b[38;5;241m=\u001b[39mprior_weight,\n\u001b[1;32m    451\u001b[0m   )\n\u001b[0;32m--> 452\u001b[0m   params\u001b[38;5;241m.\u001b[39mappend(\u001b[43mjax\u001b[49m\u001b[38;5;241;43m.\u001b[39;49m\u001b[43mtree_util\u001b[49m\u001b[38;5;241;43m.\u001b[39;49m\u001b[43mtree_map\u001b[49m\u001b[43m(\u001b[49m\u001b[43mnp\u001b[49m\u001b[38;5;241;43m.\u001b[39;49m\u001b[43marray\u001b[49m\u001b[43m,\u001b[49m\u001b[43m \u001b[49m\u001b[43mparams_i\u001b[49m\u001b[43m)\u001b[49m)\n\u001b[1;32m    453\u001b[0m   losses\u001b[38;5;241m.\u001b[39mappend(np\u001b[38;5;241m.\u001b[39marray(losses_i))\n\u001b[1;32m    454\u001b[0m params \u001b[38;5;241m=\u001b[39m jax\u001b[38;5;241m.\u001b[39mtree_util\u001b[38;5;241m.\u001b[39mtree_map(\n\u001b[1;32m    455\u001b[0m     \u001b[38;5;28;01mlambda\u001b[39;00m \u001b[38;5;241m*\u001b[39mts: np\u001b[38;5;241m.\u001b[39mconcatenate(ts, axis\u001b[38;5;241m=\u001b[39m\u001b[38;5;241m1\u001b[39m), \u001b[38;5;241m*\u001b[39mparams\n\u001b[1;32m    456\u001b[0m )\n",
            "File \u001b[0;32m~/projects/data_mining/.venv/lib/python3.10/site-packages/jax/_src/tree_util.py:359\u001b[0m, in \u001b[0;36mtree_map\u001b[0;34m(f, tree, is_leaf, *rest)\u001b[0m\n\u001b[1;32m    357\u001b[0m leaves, treedef \u001b[38;5;241m=\u001b[39m tree_flatten(tree, is_leaf)\n\u001b[1;32m    358\u001b[0m all_leaves \u001b[38;5;241m=\u001b[39m [leaves] \u001b[38;5;241m+\u001b[39m [treedef\u001b[38;5;241m.\u001b[39mflatten_up_to(r) \u001b[38;5;28;01mfor\u001b[39;00m r \u001b[38;5;129;01min\u001b[39;00m rest]\n\u001b[0;32m--> 359\u001b[0m \u001b[38;5;28;01mreturn\u001b[39;00m \u001b[43mtreedef\u001b[49m\u001b[38;5;241;43m.\u001b[39;49m\u001b[43munflatten\u001b[49m\u001b[43m(\u001b[49m\u001b[43mf\u001b[49m\u001b[43m(\u001b[49m\u001b[38;5;241;43m*\u001b[39;49m\u001b[43mxs\u001b[49m\u001b[43m)\u001b[49m\u001b[43m \u001b[49m\u001b[38;5;28;43;01mfor\u001b[39;49;00m\u001b[43m \u001b[49m\u001b[43mxs\u001b[49m\u001b[43m \u001b[49m\u001b[38;5;129;43;01min\u001b[39;49;00m\u001b[43m \u001b[49m\u001b[38;5;28;43mzip\u001b[39;49m\u001b[43m(\u001b[49m\u001b[38;5;241;43m*\u001b[39;49m\u001b[43mall_leaves\u001b[49m\u001b[43m)\u001b[49m\u001b[43m)\u001b[49m\n",
            "File \u001b[0;32m~/projects/data_mining/.venv/lib/python3.10/site-packages/jax/_src/tree_util.py:359\u001b[0m, in \u001b[0;36m<genexpr>\u001b[0;34m(.0)\u001b[0m\n\u001b[1;32m    357\u001b[0m leaves, treedef \u001b[38;5;241m=\u001b[39m tree_flatten(tree, is_leaf)\n\u001b[1;32m    358\u001b[0m all_leaves \u001b[38;5;241m=\u001b[39m [leaves] \u001b[38;5;241m+\u001b[39m [treedef\u001b[38;5;241m.\u001b[39mflatten_up_to(r) \u001b[38;5;28;01mfor\u001b[39;00m r \u001b[38;5;129;01min\u001b[39;00m rest]\n\u001b[0;32m--> 359\u001b[0m \u001b[38;5;28;01mreturn\u001b[39;00m treedef\u001b[38;5;241m.\u001b[39munflatten(\u001b[43mf\u001b[49m\u001b[43m(\u001b[49m\u001b[38;5;241;43m*\u001b[39;49m\u001b[43mxs\u001b[49m\u001b[43m)\u001b[49m \u001b[38;5;28;01mfor\u001b[39;00m xs \u001b[38;5;129;01min\u001b[39;00m \u001b[38;5;28mzip\u001b[39m(\u001b[38;5;241m*\u001b[39mall_leaves))\n",
            "File \u001b[0;32m~/projects/data_mining/.venv/lib/python3.10/site-packages/jax/_src/array.py:430\u001b[0m, in \u001b[0;36mArrayImpl.__array__\u001b[0;34m(self, dtype, context, copy)\u001b[0m\n\u001b[1;32m    427\u001b[0m \u001b[38;5;28;01mdef\u001b[39;00m\u001b[38;5;250m \u001b[39m\u001b[38;5;21m__array__\u001b[39m(\u001b[38;5;28mself\u001b[39m, dtype\u001b[38;5;241m=\u001b[39m\u001b[38;5;28;01mNone\u001b[39;00m, context\u001b[38;5;241m=\u001b[39m\u001b[38;5;28;01mNone\u001b[39;00m, copy\u001b[38;5;241m=\u001b[39m\u001b[38;5;28;01mNone\u001b[39;00m):\n\u001b[1;32m    428\u001b[0m   \u001b[38;5;66;03m# copy argument is supported by np.asarray starting in numpy 2.0\u001b[39;00m\n\u001b[1;32m    429\u001b[0m   kwds \u001b[38;5;241m=\u001b[39m {} \u001b[38;5;28;01mif\u001b[39;00m copy \u001b[38;5;129;01mis\u001b[39;00m \u001b[38;5;28;01mNone\u001b[39;00m \u001b[38;5;28;01melse\u001b[39;00m {\u001b[38;5;124m'\u001b[39m\u001b[38;5;124mcopy\u001b[39m\u001b[38;5;124m'\u001b[39m: copy}\n\u001b[0;32m--> 430\u001b[0m   \u001b[38;5;28;01mreturn\u001b[39;00m np\u001b[38;5;241m.\u001b[39masarray(\u001b[38;5;28;43mself\u001b[39;49m\u001b[38;5;241;43m.\u001b[39;49m\u001b[43m_value\u001b[49m, dtype\u001b[38;5;241m=\u001b[39mdtype, \u001b[38;5;241m*\u001b[39m\u001b[38;5;241m*\u001b[39mkwds)\n",
            "File \u001b[0;32m~/projects/data_mining/.venv/lib/python3.10/site-packages/jax/_src/profiler.py:333\u001b[0m, in \u001b[0;36mannotate_function.<locals>.wrapper\u001b[0;34m(*args, **kwargs)\u001b[0m\n\u001b[1;32m    330\u001b[0m \u001b[38;5;129m@wraps\u001b[39m(func)\n\u001b[1;32m    331\u001b[0m \u001b[38;5;28;01mdef\u001b[39;00m\u001b[38;5;250m \u001b[39m\u001b[38;5;21mwrapper\u001b[39m(\u001b[38;5;241m*\u001b[39margs, \u001b[38;5;241m*\u001b[39m\u001b[38;5;241m*\u001b[39mkwargs):\n\u001b[1;32m    332\u001b[0m   \u001b[38;5;28;01mwith\u001b[39;00m TraceAnnotation(name, \u001b[38;5;241m*\u001b[39m\u001b[38;5;241m*\u001b[39mdecorator_kwargs):\n\u001b[0;32m--> 333\u001b[0m     \u001b[38;5;28;01mreturn\u001b[39;00m \u001b[43mfunc\u001b[49m\u001b[43m(\u001b[49m\u001b[38;5;241;43m*\u001b[39;49m\u001b[43margs\u001b[49m\u001b[43m,\u001b[49m\u001b[43m \u001b[49m\u001b[38;5;241;43m*\u001b[39;49m\u001b[38;5;241;43m*\u001b[39;49m\u001b[43mkwargs\u001b[49m\u001b[43m)\u001b[49m\n\u001b[1;32m    334\u001b[0m   \u001b[38;5;28;01mreturn\u001b[39;00m wrapper\n",
            "File \u001b[0;32m~/projects/data_mining/.venv/lib/python3.10/site-packages/jax/_src/array.py:650\u001b[0m, in \u001b[0;36mArrayImpl._value\u001b[0;34m(self)\u001b[0m\n\u001b[1;32m    648\u001b[0m npy_value \u001b[38;5;241m=\u001b[39m np\u001b[38;5;241m.\u001b[39mempty(\u001b[38;5;28mself\u001b[39m\u001b[38;5;241m.\u001b[39mshape, \u001b[38;5;28mself\u001b[39m\u001b[38;5;241m.\u001b[39mdtype)\n\u001b[1;32m    649\u001b[0m \u001b[38;5;28;01mfor\u001b[39;00m i, ind \u001b[38;5;129;01min\u001b[39;00m _cached_index_calc(\u001b[38;5;28mself\u001b[39m\u001b[38;5;241m.\u001b[39msharding, \u001b[38;5;28mself\u001b[39m\u001b[38;5;241m.\u001b[39mshape):\n\u001b[0;32m--> 650\u001b[0m   npy_value[ind] \u001b[38;5;241m=\u001b[39m \u001b[38;5;28;43mself\u001b[39;49m\u001b[38;5;241;43m.\u001b[39;49m\u001b[43m_arrays\u001b[49m\u001b[43m[\u001b[49m\u001b[43mi\u001b[49m\u001b[43m]\u001b[49m\u001b[38;5;241;43m.\u001b[39;49m\u001b[43m_single_device_array_to_np_array\u001b[49m\u001b[43m(\u001b[49m\u001b[43m)\u001b[49m\n\u001b[1;32m    651\u001b[0m \u001b[38;5;28mself\u001b[39m\u001b[38;5;241m.\u001b[39m_npy_value \u001b[38;5;241m=\u001b[39m npy_value\n\u001b[1;32m    652\u001b[0m \u001b[38;5;28mself\u001b[39m\u001b[38;5;241m.\u001b[39m_npy_value\u001b[38;5;241m.\u001b[39mflags\u001b[38;5;241m.\u001b[39mwriteable \u001b[38;5;241m=\u001b[39m \u001b[38;5;28;01mFalse\u001b[39;00m\n",
            "\u001b[0;31mXlaRuntimeError\u001b[0m: FAILED_PRECONDITION: Buffer Definition Event: Error preparing computation: %sOut of memory allocating 24316320544 bytes."
          ]
        }
      ],
      "source": [
        "df_train['date'] = pd.to_datetime(df_train['date'])\n",
        "\n",
        "model = model.fit(\n",
        "    df_train,\n",
        "    seed=jax.random.PRNGKey(0),\n",
        "    ensemble_size=64,\n",
        "    num_epochs=1000,\n",
        ")"
      ]
    },
    {
      "cell_type": "code",
      "execution_count": null,
      "metadata": {
        "id": "AUUa_A5QV7Qr"
      },
      "outputs": [],
      "source": [
        "\n",
        "\n",
        "def process_datasets(folder_path):\n",
        "    \"\"\"\n",
        "    Обрабатывает данные и делит данные на df_train, df_test\n",
        "\n",
        "    :param folder_path: Путь до папки с датасетами.\n",
        "    :return: df_train и df_test\n",
        "    \"\"\"\n",
        "\n",
        "    # Создаем пустые DataFrame\n",
        "    mergered_dataset = pd.DataFrame()\n",
        "\n",
        "    # Получаем список всех файлов в папке\n",
        "    files = sorted(os.listdir(folder_path))\n",
        "\n",
        "    # Проходим по каждому файлу\n",
        "    for file in files:\n",
        "        # Проверяем, что файл имеет расширение .parquet\n",
        "        if file.endswith('.parquet'):\n",
        "            file_path = os.path.join(folder_path, file)\n",
        "            print(f\"Обработка файла: {file}\")\n",
        "\n",
        "            # Загружаем датасет\n",
        "            df = pd.read_parquet(file_path)\n",
        "\n",
        "            mergered_dataset = pd.concat([mergered_dataset, df], ignore_index=True)\n",
        "\n",
        "    # Сортируем датасет\n",
        "    mergered_dataset = mergered_dataset.sort_values(by=['date'])\n",
        "    mergered_dataset = mergered_dataset.rename(columns={'2m_temperatures_celcius': 'temperatures'})\n",
        "\n",
        "    # Вычисление количества строк для последних 15%\n",
        "    n_rows = len(mergered_dataset)\n",
        "    last_15_percent = int(n_rows * 0.15)\n",
        "\n",
        "    df_test = mergered_dataset.iloc[-last_15_percent:]\n",
        "\n",
        "    df_train = mergered_dataset.iloc[:-last_15_percent]\n",
        "\n",
        "    # Возвращаем итоговый датасет\n",
        "    return df_train.sort_values(by=['longitude', 'latitude', 'date']), df_test.sort_values(by=['longitude', 'latitude', 'date'])"
      ]
    },
    {
      "cell_type": "code",
      "execution_count": null,
      "metadata": {
        "colab": {
          "base_uri": "https://localhost:8080/"
        },
        "id": "oqg3r4veYkXK",
        "outputId": "a8effaab-5f04-4f63-bc8f-88515564190a"
      },
      "outputs": [
        {
          "name": "stdout",
          "output_type": "stream",
          "text": [
            "Обработка файла: 2000_hourly_2m_land_temperatures_TH.parquet\n",
            "Обработка файла: 2001_hourly_2m_land_temperatures_TH.parquet\n"
          ]
        }
      ],
      "source": [
        "df_train, df_test = process_datasets(pathDir)\n",
        "display(df_train, df_test)"
      ]
    },
    {
      "cell_type": "markdown",
      "metadata": {
        "id": "qsd8Wy-oA0f_"
      },
      "source": [
        "### 3. **Выбор признаков и моделей**\n",
        "\n"
      ]
    },
    {
      "cell_type": "markdown",
      "metadata": {
        "id": "ZOKeoyvQA1gs"
      },
      "source": [
        "- **Инженерия признаков:**\n",
        "\n",
        "  - Создание новых признаков, например, расстояние до водоемов, плотность растительности.\n",
        "\n",
        "- **Выбор моделей:**\n",
        "\n",
        "  - Градиентный бустинг, случайный лес и прочие, для работы с табличными данными.\n",
        "\n",
        "  - Сверточные нейронные сети для анализа растров."
      ]
    },
    {
      "cell_type": "markdown",
      "metadata": {
        "id": "AJ94CxlvA_GJ"
      },
      "source": [
        "### 4. **Разработка аналитической базы**\n"
      ]
    },
    {
      "cell_type": "markdown",
      "metadata": {
        "id": "y4kWh2EEA99V"
      },
      "source": [
        "\n",
        "- **Исследование данных:**\n",
        "\n",
        "  - Анализ корреляций между признаками.\n",
        "\n",
        "  - Визуализация данных на карте для выявления пространственных закономерностей."
      ]
    },
    {
      "cell_type": "markdown",
      "metadata": {
        "id": "HuBWCnwuBByi"
      },
      "source": [
        "### 5. **Тренировка моделей**\n",
        "\n"
      ]
    },
    {
      "cell_type": "markdown",
      "metadata": {
        "id": "ekJefDVLBDES"
      },
      "source": [
        "- **Настройка гиперпараметров:**\n",
        "\n",
        "  - Использование методов кросс-валидации и поиска по сетке (Grid Search).\n",
        "\n",
        "- **Оценка производительности:**\n",
        "\n",
        "  - ROC-кривые и матрицы ошибок для классификации рисков."
      ]
    },
    {
      "cell_type": "markdown",
      "metadata": {
        "id": "T1l5aX1LBEuS"
      },
      "source": [
        "### 6. **Проверка и оценка моделей**\n",
        "\n"
      ]
    },
    {
      "cell_type": "markdown",
      "metadata": {
        "id": "Bo3WPlaBBFrT"
      },
      "source": [
        "- **Валидация:**\n",
        "\n",
        "  - Проверка модели на отдельных регионах."
      ]
    },
    {
      "cell_type": "markdown",
      "metadata": {
        "id": "yIDaOsGm-oGW"
      },
      "source": [
        "\n",
        "\n",
        "\n",
        "\n",
        "\n",
        "\n",
        "### 7. **Развертывание и демонстрация**\n",
        "\n",
        "\n",
        "\n",
        "\n",
        "\n",
        "\n",
        "\n",
        "\n",
        "\n"
      ]
    },
    {
      "cell_type": "markdown",
      "metadata": {
        "id": "Rc-p24eEBH-D"
      },
      "source": [
        "- **Создание API:** Реализация сервиса, принимающего запросы с геоданными и возвращающего прогноз риска.\n",
        "\n",
        "- **Графический интерфейс:**\n",
        "\n",
        "  - Разработка веб-приложения в Streamlit для визуализации карты с отмеченными зонами риска."
      ]
    },
    {
      "cell_type": "markdown",
      "metadata": {
        "id": "qclVz_YHAXdH"
      },
      "source": [
        "### **III. Примерный перечень тем**\n",
        "\n"
      ]
    },
    {
      "cell_type": "markdown",
      "metadata": {
        "id": "vvgU-H00AYpP"
      },
      "source": [
        "1. **Классификация объектов на спутниковых изображениях с использованием методов машинного обучения**\n",
        "\n",
        "   Применение алгоритмов глубокого обучения для распознавания и классификации различных объектов на спутниковых снимках (например, здания, дороги, водоемы) с последующей визуализацией результатов на географических картах.\n",
        "\n",
        "2. **Прогнозирование и визуализация изменений землепользования и урбанизации**\n",
        "\n",
        "   Использование методов анализа данных и растровых изображений для прогнозирования изменений в землепользовании, включая процессы урбанизации и вырубки лесов, с интеграцией результатов в интерактивные карты.\n",
        "\n",
        "3. **Оценка экологического состояния территорий и экологических рисков с помощью кластеризации пространственных данных**\n",
        "\n",
        "   Применение методов кластеризации для сегментации территорий по экологическому состоянию, учитывая различные показатели (например, качество воздуха, воды, почвы), с последующей визуализацией на картах.\n",
        "\n",
        "4. **Анализ пространственного распределения преступности в городах**\n",
        "\n",
        "   Использование методов интеллектуального анализа данных для выявления и визуализации горячих точек преступности с целью поддержки правоохранительных органов в принятии решений.\n",
        "\n",
        "5. **Оптимизация маршрутов и транспортных потоков с использованием пространственного анализа**\n",
        "\n",
        "   Применение алгоритмов оптимизации на пространственных данных для построения наиболее эффективных маршрутов доставки и прогнозирования загруженности дорог, с визуализацией результатов на интерактивных картах.\n",
        "\n",
        "6. **Картирование и анализ биологического разнообразия**\n",
        "\n",
        "   Использование пространственных данных для оценки и визуализации распределения биологических видов с целью поддержки мероприятий по сохранению биоразнообразия.\n",
        "\n",
        "7. **Прогнозирование и визуализация риска эрозии почв**\n",
        "\n",
        "   Применение методов анализа данных для оценки риска эрозии почв в различных регионах с визуализацией результатов на географических картах.\n",
        "\n",
        "8. **Анализ и визуализация доступности инфраструктуры**\n",
        "\n",
        "   Использование пространственных данных для оценки доступности важных объектов инфраструктуры (больницы, школы, магазины) для населения с визуализацией на картах.\n",
        "\n",
        "9. **Прогнозирование влияния климатических изменений на экосистемы**\n",
        "\n",
        "   Моделирование потенциальных изменений экосистем под воздействием климатических факторов с визуализацией результатов на пространственных картах.\n",
        "\n",
        "10. **Классификация и анализ качества сельскохозяйственных угодий и прогнозирование урожайности**\n",
        "\n",
        "    Применение методов классификации для оценки состояния и продуктивности сельскохозяйственных земель, прогнозирование урожайности с визуализацией данных на географических картах.\n",
        "\n",
        "11. **Мониторинг изменений земного покрова с использованием спутниковых снимков**\n",
        "\n",
        "    Использование методов классификации растровых данных для идентификации типов земного покрова (лес, вода, урбанизированные территории) и мониторинга их изменений с визуализацией результатов на картах.\n",
        "\n",
        "12. **Классификация и прогнозирование зон природных рисков на основе растровых данных**\n",
        "\n",
        "    Использование растровых данных для классификации территорий по степени риска (например, оползни, наводнения), прогнозирование изменений этих зон и визуализация на интерактивных картах.\n",
        "\n",
        "13. **Прогностическое моделирование распространения пожаров**\n",
        "\n",
        "    Применение методов машинного обучения и растровых данных для оценки вероятности возникновения пожаров, прогнозирования их распространения и визуализации результатов на картах.\n",
        "\n",
        "14. **Классификация растровых данных для мониторинга изменений в экосистемах**\n",
        "\n",
        "    Использование методов классификации растров для обнаружения и прогнозирования изменений в экосистемах (например, вырубка лесов, высыхание водоемов) с последующей визуализацией результатов.\n",
        "\n",
        "15. **Применение методов максимальной энтропии (MaxEnt) для прогнозирования присутствия явлений**\n",
        "\n",
        "    Использование модели MaxEnt для оценки вероятности присутствия различных явлений на основе пространственных растровых данных.\n",
        "\n",
        "16. **Прогнозирование и визуализация уровня загрязнения воздуха в городах**\n",
        "\n",
        "    Разработка модели для предсказания уровня загрязнения воздуха в различных районах города с использованием методов машинного обучения и визуализацией результатов на интерактивной карте.\n",
        "\n",
        "17. **Моделирование распространения загрязняющих веществ в атмосфере**\n",
        "\n",
        "    Использование пространственных данных и методов анализа для прогнозирования распространения загрязняющих веществ с визуализацией на географических картах.\n",
        "\n",
        "18. **Прогнозирование спроса на общественный транспорт с использованием пространственных данных**\n",
        "\n",
        "    Анализ пространственных данных для предсказания зон с повышенным спросом на общественный транспорт в разное время суток, с визуализацией результатов для оптимизации маршрутов и графиков движения.\n",
        "\n",
        "19. **Оптимизация размещения торговых точек с интеграцией пространственных данных**\n",
        "\n",
        "    Применение методов анализа данных для определения оптимальных мест расположения новых магазинов или сервисов, учитывая демографические данные, потоки людей и существующую инфраструктуру, с визуализацией на интерактивной карте.\n",
        "\n",
        "20. **Прогностическое моделирование распространения инфекционных заболеваний**\n",
        "\n",
        "    Использование методов анализа пространственных данных для предсказания распространения заболеваний по регионам с визуализацией на интерактивных картах, актуально для общественного здравоохранения.\n",
        "\n",
        "21. **Моделирование и визуализация риска затопления территорий**\n",
        "\n",
        "    Применение гидрологических моделей и метеорологических данных для прогнозирования зон возможного подтопления с интеграцией результатов в системы визуализации пространственных данных.\n",
        "\n",
        "22. **Анализ и прогнозирование дорожного трафика с использованием пространственных данных**\n",
        "\n",
        "    Использование данных о перемещении транспортных средств для предсказания загруженности дорог в разные периоды времени с визуализацией результатов на картах для оптимизации транспортных потоков.\n"
      ]
    },
    {
      "cell_type": "markdown",
      "metadata": {
        "id": "w__in-C1AMuv"
      },
      "source": [
        "## **IV. Требования**\n",
        "\n",
        "\n",
        "\n",
        "\n"
      ]
    },
    {
      "cell_type": "markdown",
      "metadata": {
        "id": "_KZb3GjpARot"
      },
      "source": [
        "### **Требования к источникам данных**"
      ]
    },
    {
      "cell_type": "markdown",
      "metadata": {
        "id": "HHmC42seAPip"
      },
      "source": [
        "- **Актуальность и достоверность:** Используйте актуальные и проверенные пространственные данные.\n",
        "\n",
        "- **Доступность:** Предпочтительно использовать открытые данные или данные, полученные через API.\n",
        "\n"
      ]
    },
    {
      "cell_type": "markdown",
      "metadata": {
        "id": "LJ_FOU86ATn4"
      },
      "source": [
        "### **Требования к данным и визуализации**"
      ]
    },
    {
      "cell_type": "markdown",
      "metadata": {
        "id": "Xh7uTJ7zAN6f"
      },
      "source": [
        "- **Пространственная привязка:** Все данные должны иметь координаты или другую географическую информацию.\n",
        "\n",
        "- **Визуализация:** Результаты должны быть визуализированы на карте с возможностью интерактивного взаимодействия."
      ]
    },
    {
      "cell_type": "markdown",
      "metadata": {
        "id": "MvG-7YLcB5OB"
      },
      "source": [
        "### **Примеры**"
      ]
    },
    {
      "cell_type": "markdown",
      "metadata": {
        "id": "3-jbpP6geHNq"
      },
      "source": [
        "Визуализация может быть выполнена в любой среде, позволяющей создавать тематическую карту с динамическим отображением данных по временным меткам, например в среде [Folium](https://python-visualization.github.io/folium/latest/user_guide.html)\n",
        "\n"
      ]
    },
    {
      "cell_type": "markdown",
      "metadata": {
        "id": "Eud3eNBgeIVk"
      },
      "source": [
        "#### Пример №1:\n",
        "\n",
        "[Документация](https://python-visualization.github.io/folium/latest/user_guide/plugins/timestamped_geojson.html)"
      ]
    },
    {
      "cell_type": "code",
      "execution_count": null,
      "metadata": {
        "colab": {
          "base_uri": "https://localhost:8080/",
          "height": 808
        },
        "id": "aHmxzSZ93Rql",
        "outputId": "11a2782a-a23b-42b1-eff2-a844e396e539"
      },
      "outputs": [
        {
          "data": {
            "text/html": [
              "<div style=\"width:100%;\"><div style=\"position:relative;width:100%;height:0;padding-bottom:60%;\"><span style=\"color:#565656\">Make this Notebook Trusted to load map: File -> Trust Notebook</span><iframe srcdoc=\"&lt;!DOCTYPE html&gt;\n",
              "&lt;html&gt;\n",
              "&lt;head&gt;\n",
              "    \n",
              "    &lt;meta http-equiv=&quot;content-type&quot; content=&quot;text/html; charset=UTF-8&quot; /&gt;\n",
              "    \n",
              "        &lt;script&gt;\n",
              "            L_NO_TOUCH = false;\n",
              "            L_DISABLE_3D = false;\n",
              "        &lt;/script&gt;\n",
              "    \n",
              "    &lt;style&gt;html, body {width: 100%;height: 100%;margin: 0;padding: 0;}&lt;/style&gt;\n",
              "    &lt;style&gt;#map {position:absolute;top:0;bottom:0;right:0;left:0;}&lt;/style&gt;\n",
              "    &lt;script src=&quot;https://cdn.jsdelivr.net/npm/leaflet@1.9.3/dist/leaflet.js&quot;&gt;&lt;/script&gt;\n",
              "    &lt;script src=&quot;https://code.jquery.com/jquery-1.12.4.min.js&quot;&gt;&lt;/script&gt;\n",
              "    &lt;script src=&quot;https://cdn.jsdelivr.net/npm/bootstrap@5.2.2/dist/js/bootstrap.bundle.min.js&quot;&gt;&lt;/script&gt;\n",
              "    &lt;script src=&quot;https://cdnjs.cloudflare.com/ajax/libs/Leaflet.awesome-markers/2.0.2/leaflet.awesome-markers.js&quot;&gt;&lt;/script&gt;\n",
              "    &lt;link rel=&quot;stylesheet&quot; href=&quot;https://cdn.jsdelivr.net/npm/leaflet@1.9.3/dist/leaflet.css&quot;/&gt;\n",
              "    &lt;link rel=&quot;stylesheet&quot; href=&quot;https://cdn.jsdelivr.net/npm/bootstrap@5.2.2/dist/css/bootstrap.min.css&quot;/&gt;\n",
              "    &lt;link rel=&quot;stylesheet&quot; href=&quot;https://netdna.bootstrapcdn.com/bootstrap/3.0.0/css/bootstrap.min.css&quot;/&gt;\n",
              "    &lt;link rel=&quot;stylesheet&quot; href=&quot;https://cdn.jsdelivr.net/npm/@fortawesome/fontawesome-free@6.2.0/css/all.min.css&quot;/&gt;\n",
              "    &lt;link rel=&quot;stylesheet&quot; href=&quot;https://cdnjs.cloudflare.com/ajax/libs/Leaflet.awesome-markers/2.0.2/leaflet.awesome-markers.css&quot;/&gt;\n",
              "    &lt;link rel=&quot;stylesheet&quot; href=&quot;https://cdn.jsdelivr.net/gh/python-visualization/folium/folium/templates/leaflet.awesome.rotate.min.css&quot;/&gt;\n",
              "    \n",
              "            &lt;meta name=&quot;viewport&quot; content=&quot;width=device-width,\n",
              "                initial-scale=1.0, maximum-scale=1.0, user-scalable=no&quot; /&gt;\n",
              "            &lt;style&gt;\n",
              "                #map_137a21c6d6a7182276b92bc5cee8fac1 {\n",
              "                    position: relative;\n",
              "                    width: 100.0%;\n",
              "                    height: 100.0%;\n",
              "                    left: 0.0%;\n",
              "                    top: 0.0%;\n",
              "                }\n",
              "                .leaflet-container { font-size: 1rem; }\n",
              "            &lt;/style&gt;\n",
              "        \n",
              "    &lt;script src=&quot;https://cdnjs.cloudflare.com/ajax/libs/jquery/2.0.0/jquery.min.js&quot;&gt;&lt;/script&gt;\n",
              "    &lt;script src=&quot;https://cdnjs.cloudflare.com/ajax/libs/jqueryui/1.10.2/jquery-ui.min.js&quot;&gt;&lt;/script&gt;\n",
              "    &lt;script src=&quot;https://cdn.jsdelivr.net/npm/iso8601-js-period@0.2.1/iso8601.min.js&quot;&gt;&lt;/script&gt;\n",
              "    &lt;script src=&quot;https://cdn.jsdelivr.net/npm/leaflet-timedimension@1.1.1/dist/leaflet.timedimension.min.js&quot;&gt;&lt;/script&gt;\n",
              "    &lt;script src=&quot;https://cdnjs.cloudflare.com/ajax/libs/moment.js/2.18.1/moment.min.js&quot;&gt;&lt;/script&gt;\n",
              "    &lt;link rel=&quot;stylesheet&quot; href=&quot;https://cdnjs.cloudflare.com/ajax/libs/highlight.js/8.4/styles/default.min.css&quot;/&gt;\n",
              "    &lt;link rel=&quot;stylesheet&quot; href=&quot;https://cdn.jsdelivr.net/npm/leaflet-timedimension@1.1.1/dist/leaflet.timedimension.control.css&quot;/&gt;\n",
              "&lt;/head&gt;\n",
              "&lt;body&gt;\n",
              "    \n",
              "    \n",
              "            &lt;div class=&quot;folium-map&quot; id=&quot;map_137a21c6d6a7182276b92bc5cee8fac1&quot; &gt;&lt;/div&gt;\n",
              "        \n",
              "&lt;/body&gt;\n",
              "&lt;script&gt;\n",
              "    \n",
              "    \n",
              "            var map_137a21c6d6a7182276b92bc5cee8fac1 = L.map(\n",
              "                &quot;map_137a21c6d6a7182276b92bc5cee8fac1&quot;,\n",
              "                {\n",
              "                    center: [35.68159659061569, 139.76451516151428],\n",
              "                    crs: L.CRS.EPSG3857,\n",
              "                    zoom: 16,\n",
              "                    zoomControl: true,\n",
              "                    preferCanvas: false,\n",
              "                }\n",
              "            );\n",
              "\n",
              "            \n",
              "\n",
              "        \n",
              "    \n",
              "            var tile_layer_b67f15d829420231b016bd9e40126083 = L.tileLayer(\n",
              "                &quot;https://{s}.tile.openstreetmap.org/{z}/{x}/{y}.png&quot;,\n",
              "                {&quot;attribution&quot;: &quot;Data by \\u0026copy; \\u003ca target=\\&quot;_blank\\&quot; href=\\&quot;http://openstreetmap.org\\&quot;\\u003eOpenStreetMap\\u003c/a\\u003e, under \\u003ca target=\\&quot;_blank\\&quot; href=\\&quot;http://www.openstreetmap.org/copyright\\&quot;\\u003eODbL\\u003c/a\\u003e.&quot;, &quot;detectRetina&quot;: false, &quot;maxNativeZoom&quot;: 18, &quot;maxZoom&quot;: 18, &quot;minZoom&quot;: 0, &quot;noWrap&quot;: false, &quot;opacity&quot;: 1, &quot;subdomains&quot;: &quot;abc&quot;, &quot;tms&quot;: false}\n",
              "            ).addTo(map_137a21c6d6a7182276b92bc5cee8fac1);\n",
              "        \n",
              "    \n",
              "            L.Control.TimeDimensionCustom = L.Control.TimeDimension.extend({\n",
              "                _getDisplayDateFormat: function(date){\n",
              "                    var newdate = new moment(date);\n",
              "                    console.log(newdate)\n",
              "                    return newdate.format(&quot;YYYY-MM-DD HH:mm:ss&quot;);\n",
              "                }\n",
              "            });\n",
              "            map_137a21c6d6a7182276b92bc5cee8fac1.timeDimension = L.timeDimension(\n",
              "                {\n",
              "                    period: &quot;PT1M&quot;,\n",
              "                }\n",
              "            );\n",
              "            var timeDimensionControl = new L.Control.TimeDimensionCustom(\n",
              "                {&quot;autoPlay&quot;: true, &quot;loopButton&quot;: false, &quot;maxSpeed&quot;: 10, &quot;minSpeed&quot;: 0.1, &quot;playerOptions&quot;: {&quot;loop&quot;: true, &quot;startOver&quot;: true, &quot;transitionTime&quot;: 200}, &quot;position&quot;: &quot;bottomleft&quot;, &quot;speedSlider&quot;: true, &quot;timeSliderDragUpdate&quot;: false}\n",
              "            );\n",
              "            map_137a21c6d6a7182276b92bc5cee8fac1.addControl(this.timeDimensionControl);\n",
              "\n",
              "            var geoJsonLayer = L.geoJson({&quot;type&quot;: &quot;FeatureCollection&quot;, &quot;features&quot;: [{&quot;type&quot;: &quot;Feature&quot;, &quot;geometry&quot;: {&quot;type&quot;: &quot;LineString&quot;, &quot;coordinates&quot;: [[139.76451516151428, 35.68159659061569], [139.75964426994324, 35.682590062684206]]}, &quot;properties&quot;: {&quot;times&quot;: [&quot;2017-06-02T00:00:00&quot;, &quot;2017-06-02T00:10:00&quot;], &quot;style&quot;: {&quot;color&quot;: &quot;red&quot;, &quot;weight&quot;: 5}}}, {&quot;type&quot;: &quot;Feature&quot;, &quot;geometry&quot;: {&quot;type&quot;: &quot;LineString&quot;, &quot;coordinates&quot;: [[139.75964426994324, 35.682590062684206], [139.7575843334198, 35.679505030038506]]}, &quot;properties&quot;: {&quot;times&quot;: [&quot;2017-06-02T00:10:00&quot;, &quot;2017-06-02T00:20:00&quot;], &quot;style&quot;: {&quot;color&quot;: &quot;blue&quot;, &quot;weight&quot;: 5}}}, {&quot;type&quot;: &quot;Feature&quot;, &quot;geometry&quot;: {&quot;type&quot;: &quot;LineString&quot;, &quot;coordinates&quot;: [[139.7575843334198, 35.679505030038506], [139.76337790489197, 35.678040905014065]]}, &quot;properties&quot;: {&quot;times&quot;: [&quot;2017-06-02T00:20:00&quot;, &quot;2017-06-02T00:30:00&quot;], &quot;style&quot;: {&quot;color&quot;: &quot;green&quot;, &quot;weight&quot;: 15}}}, {&quot;type&quot;: &quot;Feature&quot;, &quot;geometry&quot;: {&quot;type&quot;: &quot;LineString&quot;, &quot;coordinates&quot;: [[139.76337790489197, 35.678040905014065], [139.76451516151428, 35.68159659061569]]}, &quot;properties&quot;: {&quot;times&quot;: [&quot;2017-06-02T00:30:00&quot;, &quot;2017-06-02T00:40:00&quot;], &quot;style&quot;: {&quot;color&quot;: &quot;#FFFFFF&quot;, &quot;weight&quot;: 5}}}]}, {\n",
              "                    pointToLayer: function (feature, latLng) {\n",
              "                        if (feature.properties.icon == &#x27;marker&#x27;) {\n",
              "                            if(feature.properties.iconstyle){\n",
              "                                return new L.Marker(latLng, {\n",
              "                                    icon: L.icon(feature.properties.iconstyle)});\n",
              "                            }\n",
              "                            //else\n",
              "                            return new L.Marker(latLng);\n",
              "                        }\n",
              "                        if (feature.properties.icon == &#x27;circle&#x27;) {\n",
              "                            if (feature.properties.iconstyle) {\n",
              "                                return new L.circleMarker(latLng, feature.properties.iconstyle)\n",
              "                                };\n",
              "                            //else\n",
              "                            return new L.circleMarker(latLng);\n",
              "                        }\n",
              "                        //else\n",
              "\n",
              "                        return new L.Marker(latLng);\n",
              "                    },\n",
              "                    style: function (feature) {\n",
              "                        return feature.properties.style;\n",
              "                    },\n",
              "                    onEachFeature: function(feature, layer) {\n",
              "                        if (feature.properties.popup) {\n",
              "                        layer.bindPopup(feature.properties.popup);\n",
              "                        }\n",
              "                        if (feature.properties.tooltip) {\n",
              "                        layer.bindTooltip(feature.properties.tooltip);\n",
              "                        }\n",
              "                    }\n",
              "                })\n",
              "\n",
              "            var timestamped_geo_json_a4e42e63684971bf42fae7f25283c92e = L.timeDimension.layer.geoJson(\n",
              "                geoJsonLayer,\n",
              "                {\n",
              "                    updateTimeDimension: true,\n",
              "                    addlastPoint: true,\n",
              "                    duration: undefined,\n",
              "                }\n",
              "            ).addTo(map_137a21c6d6a7182276b92bc5cee8fac1);\n",
              "        \n",
              "&lt;/script&gt;\n",
              "&lt;/html&gt;\" style=\"position:absolute;width:100%;height:100%;left:0;top:0;border:none !important;\" allowfullscreen webkitallowfullscreen mozallowfullscreen></iframe></div></div>"
            ],
            "text/plain": [
              "<folium.folium.Map at 0x7fa743b3c820>"
            ]
          },
          "execution_count": 7,
          "metadata": {},
          "output_type": "execute_result"
        }
      ],
      "source": [
        "import folium\n",
        "from folium.plugins import TimestampedGeoJson\n",
        "\n",
        "m = folium.Map(location=[35.68159659061569, 139.76451516151428], zoom_start=16)\n",
        "\n",
        "\n",
        "lines = [\n",
        "    {\n",
        "        \"coordinates\": [\n",
        "            [139.76451516151428, 35.68159659061569],\n",
        "            [139.75964426994324, 35.682590062684206],\n",
        "        ],\n",
        "        \"dates\": [\"2017-06-02T00:00:00\", \"2017-06-02T00:10:00\"],\n",
        "        \"color\": \"red\",\n",
        "    },\n",
        "    {\n",
        "        \"coordinates\": [\n",
        "            [139.75964426994324, 35.682590062684206],\n",
        "            [139.7575843334198, 35.679505030038506],\n",
        "        ],\n",
        "        \"dates\": [\"2017-06-02T00:10:00\", \"2017-06-02T00:20:00\"],\n",
        "        \"color\": \"blue\",\n",
        "    },\n",
        "    {\n",
        "        \"coordinates\": [\n",
        "            [139.7575843334198, 35.679505030038506],\n",
        "            [139.76337790489197, 35.678040905014065],\n",
        "        ],\n",
        "        \"dates\": [\"2017-06-02T00:20:00\", \"2017-06-02T00:30:00\"],\n",
        "        \"color\": \"green\",\n",
        "        \"weight\": 15,\n",
        "    },\n",
        "    {\n",
        "        \"coordinates\": [\n",
        "            [139.76337790489197, 35.678040905014065],\n",
        "            [139.76451516151428, 35.68159659061569],\n",
        "        ],\n",
        "        \"dates\": [\"2017-06-02T00:30:00\", \"2017-06-02T00:40:00\"],\n",
        "        \"color\": \"#FFFFFF\",\n",
        "    },\n",
        "]\n",
        "\n",
        "features = [\n",
        "    {\n",
        "        \"type\": \"Feature\",\n",
        "        \"geometry\": {\n",
        "            \"type\": \"LineString\",\n",
        "            \"coordinates\": line[\"coordinates\"],\n",
        "        },\n",
        "        \"properties\": {\n",
        "            \"times\": line[\"dates\"],\n",
        "            \"style\": {\n",
        "                \"color\": line[\"color\"],\n",
        "                \"weight\": line[\"weight\"] if \"weight\" in line else 5,\n",
        "            },\n",
        "        },\n",
        "    }\n",
        "    for line in lines\n",
        "]\n",
        "\n",
        "TimestampedGeoJson(\n",
        "    {\n",
        "        \"type\": \"FeatureCollection\",\n",
        "        \"features\": features,\n",
        "    },\n",
        "    period=\"PT1M\",\n",
        "    add_last_point=True,\n",
        ").add_to(m)\n",
        "\n",
        "m"
      ]
    },
    {
      "cell_type": "markdown",
      "metadata": {
        "id": "oYMoKU1FGYtF"
      },
      "source": [
        "#### Пример 2\n",
        "\n",
        "[Документация](https://python-visualization.github.io/folium/latest/user_guide/plugins/WmsTimeDimension.html)"
      ]
    },
    {
      "cell_type": "code",
      "execution_count": null,
      "metadata": {
        "colab": {
          "base_uri": "https://localhost:8080/"
        },
        "id": "2-zxKBlIGHIY",
        "outputId": "834d41ff-8127-4a19-d9ab-135fc4a146e1"
      },
      "outputs": [
        {
          "name": "stdout",
          "output_type": "stream",
          "text": [
            "Collecting owslib\n",
            "  Downloading OWSLib-0.29.3-py2.py3-none-any.whl (221 kB)\n",
            "\u001b[?25l     \u001b[90m━━━━━━━━━━━━━━━━━━━━━━━━━━━━━━━━━━━━━━━━\u001b[0m \u001b[32m0.0/221.1 kB\u001b[0m \u001b[31m?\u001b[0m eta \u001b[36m-:--:--\u001b[0m\r\u001b[2K     \u001b[91m━━━━━━━━━━━━━━━━━━━━━━━━━━━━━\u001b[0m\u001b[91m╸\u001b[0m\u001b[90m━━━━━━━━━━\u001b[0m \u001b[32m163.8/221.1 kB\u001b[0m \u001b[31m4.9 MB/s\u001b[0m eta \u001b[36m0:00:01\u001b[0m\r\u001b[2K     \u001b[90m━━━━━━━━━━━━━━━━━━━━━━━━━━━━━━━━━━━━━━━━\u001b[0m \u001b[32m221.1/221.1 kB\u001b[0m \u001b[31m4.6 MB/s\u001b[0m eta \u001b[36m0:00:00\u001b[0m\n",
            "\u001b[?25hRequirement already satisfied: lxml in /usr/local/lib/python3.10/dist-packages (from owslib) (4.9.3)\n",
            "Requirement already satisfied: python-dateutil>=1.5 in /usr/local/lib/python3.10/dist-packages (from owslib) (2.8.2)\n",
            "Requirement already satisfied: pytz in /usr/local/lib/python3.10/dist-packages (from owslib) (2023.3.post1)\n",
            "Requirement already satisfied: pyyaml in /usr/local/lib/python3.10/dist-packages (from owslib) (6.0.1)\n",
            "Requirement already satisfied: requests>=1.0 in /usr/local/lib/python3.10/dist-packages (from owslib) (2.31.0)\n",
            "Requirement already satisfied: six>=1.5 in /usr/local/lib/python3.10/dist-packages (from python-dateutil>=1.5->owslib) (1.16.0)\n",
            "Requirement already satisfied: charset-normalizer<4,>=2 in /usr/local/lib/python3.10/dist-packages (from requests>=1.0->owslib) (3.3.2)\n",
            "Requirement already satisfied: idna<4,>=2.5 in /usr/local/lib/python3.10/dist-packages (from requests>=1.0->owslib) (3.4)\n",
            "Requirement already satisfied: urllib3<3,>=1.21.1 in /usr/local/lib/python3.10/dist-packages (from requests>=1.0->owslib) (2.0.7)\n",
            "Requirement already satisfied: certifi>=2017.4.17 in /usr/local/lib/python3.10/dist-packages (from requests>=1.0->owslib) (2023.7.22)\n",
            "Installing collected packages: owslib\n",
            "Successfully installed owslib-0.29.3\n"
          ]
        }
      ],
      "source": [
        "!pip install owslib"
      ]
    },
    {
      "cell_type": "code",
      "execution_count": null,
      "metadata": {
        "colab": {
          "base_uri": "https://localhost:8080/",
          "height": 1000
        },
        "id": "9nVCexc23kQT",
        "outputId": "63349601-9e90-4cae-e35d-348c2b30e5ab"
      },
      "outputs": [
        {
          "name": "stdout",
          "output_type": "stream",
          "text": [
            "CRW_DHW\n",
            "CRW_DHW_mask\n",
            "CRW_HOTSPOT\n",
            "CRW_HOTSPOT_mask\n",
            "CRW_SSTANOMALY\n",
            "CRW_SSTANOMALY_mask\n",
            "CRW_BAA\n",
            "CRW_BAA_mask\n",
            "CRW_BAA_7D_MAX\n",
            "CRW_BAA_7D_MAX_mask\n",
            "CRW_SEAICE\n",
            "CRW_SST\n"
          ]
        },
        {
          "data": {
            "text/html": [
              "<div style=\"width:100%;\"><div style=\"position:relative;width:100%;height:0;padding-bottom:60%;\"><span style=\"color:#565656\">Make this Notebook Trusted to load map: File -> Trust Notebook</span><iframe srcdoc=\"&lt;!DOCTYPE html&gt;\n",
              "&lt;html&gt;\n",
              "&lt;head&gt;\n",
              "    \n",
              "    &lt;meta http-equiv=&quot;content-type&quot; content=&quot;text/html; charset=UTF-8&quot; /&gt;\n",
              "    \n",
              "        &lt;script&gt;\n",
              "            L_NO_TOUCH = false;\n",
              "            L_DISABLE_3D = false;\n",
              "        &lt;/script&gt;\n",
              "    \n",
              "    &lt;style&gt;html, body {width: 100%;height: 100%;margin: 0;padding: 0;}&lt;/style&gt;\n",
              "    &lt;style&gt;#map {position:absolute;top:0;bottom:0;right:0;left:0;}&lt;/style&gt;\n",
              "    &lt;script src=&quot;https://cdn.jsdelivr.net/npm/leaflet@1.9.3/dist/leaflet.js&quot;&gt;&lt;/script&gt;\n",
              "    &lt;script src=&quot;https://code.jquery.com/jquery-1.12.4.min.js&quot;&gt;&lt;/script&gt;\n",
              "    &lt;script src=&quot;https://cdn.jsdelivr.net/npm/bootstrap@5.2.2/dist/js/bootstrap.bundle.min.js&quot;&gt;&lt;/script&gt;\n",
              "    &lt;script src=&quot;https://cdnjs.cloudflare.com/ajax/libs/Leaflet.awesome-markers/2.0.2/leaflet.awesome-markers.js&quot;&gt;&lt;/script&gt;\n",
              "    &lt;link rel=&quot;stylesheet&quot; href=&quot;https://cdn.jsdelivr.net/npm/leaflet@1.9.3/dist/leaflet.css&quot;/&gt;\n",
              "    &lt;link rel=&quot;stylesheet&quot; href=&quot;https://cdn.jsdelivr.net/npm/bootstrap@5.2.2/dist/css/bootstrap.min.css&quot;/&gt;\n",
              "    &lt;link rel=&quot;stylesheet&quot; href=&quot;https://netdna.bootstrapcdn.com/bootstrap/3.0.0/css/bootstrap.min.css&quot;/&gt;\n",
              "    &lt;link rel=&quot;stylesheet&quot; href=&quot;https://cdn.jsdelivr.net/npm/@fortawesome/fontawesome-free@6.2.0/css/all.min.css&quot;/&gt;\n",
              "    &lt;link rel=&quot;stylesheet&quot; href=&quot;https://cdnjs.cloudflare.com/ajax/libs/Leaflet.awesome-markers/2.0.2/leaflet.awesome-markers.css&quot;/&gt;\n",
              "    &lt;link rel=&quot;stylesheet&quot; href=&quot;https://cdn.jsdelivr.net/gh/python-visualization/folium/folium/templates/leaflet.awesome.rotate.min.css&quot;/&gt;\n",
              "    \n",
              "            &lt;meta name=&quot;viewport&quot; content=&quot;width=device-width,\n",
              "                initial-scale=1.0, maximum-scale=1.0, user-scalable=no&quot; /&gt;\n",
              "            &lt;style&gt;\n",
              "                #map_6e91b4efa29208cef9e59c75e8db625f {\n",
              "                    position: relative;\n",
              "                    width: 100.0%;\n",
              "                    height: 100.0%;\n",
              "                    left: 0.0%;\n",
              "                    top: 0.0%;\n",
              "                }\n",
              "                .leaflet-container { font-size: 1rem; }\n",
              "            &lt;/style&gt;\n",
              "        \n",
              "    &lt;script src=&quot;https://cdnjs.cloudflare.com/ajax/libs/jquery/2.0.0/jquery.min.js&quot;&gt;&lt;/script&gt;\n",
              "    &lt;script src=&quot;https://cdnjs.cloudflare.com/ajax/libs/jqueryui/1.10.2/jquery-ui.min.js&quot;&gt;&lt;/script&gt;\n",
              "    &lt;script src=&quot;https://cdn.jsdelivr.net/npm/iso8601-js-period@0.2.1/iso8601.min.js&quot;&gt;&lt;/script&gt;\n",
              "    &lt;script src=&quot;https://cdn.jsdelivr.net/npm/leaflet-timedimension@1.1.1/dist/leaflet.timedimension.min.js&quot;&gt;&lt;/script&gt;\n",
              "    &lt;link rel=&quot;stylesheet&quot; href=&quot;https://cdnjs.cloudflare.com/ajax/libs/highlight.js/8.4/styles/default.min.css&quot;/&gt;\n",
              "    &lt;link rel=&quot;stylesheet&quot; href=&quot;https://cdn.jsdelivr.net/npm/leaflet-timedimension@1.1.1/dist/leaflet.timedimension.control.css&quot;/&gt;\n",
              "&lt;/head&gt;\n",
              "&lt;body&gt;\n",
              "    \n",
              "    \n",
              "            &lt;div class=&quot;folium-map&quot; id=&quot;map_6e91b4efa29208cef9e59c75e8db625f&quot; &gt;&lt;/div&gt;\n",
              "        \n",
              "&lt;/body&gt;\n",
              "&lt;script&gt;\n",
              "    \n",
              "    \n",
              "            var map_6e91b4efa29208cef9e59c75e8db625f = L.map(\n",
              "                &quot;map_6e91b4efa29208cef9e59c75e8db625f&quot;,\n",
              "                {\n",
              "                    center: [-40.0, -50.0],\n",
              "                    crs: L.CRS.EPSG3857,\n",
              "                    zoom: 5,\n",
              "                    zoomControl: true,\n",
              "                    preferCanvas: false,\n",
              "                }\n",
              "            );\n",
              "\n",
              "            \n",
              "\n",
              "        \n",
              "    \n",
              "            var tile_layer_4b608242fd490edcefc07040c876fb42 = L.tileLayer(\n",
              "                &quot;https://{s}.tile.openstreetmap.org/{z}/{x}/{y}.png&quot;,\n",
              "                {&quot;attribution&quot;: &quot;Data by \\u0026copy; \\u003ca target=\\&quot;_blank\\&quot; href=\\&quot;http://openstreetmap.org\\&quot;\\u003eOpenStreetMap\\u003c/a\\u003e, under \\u003ca target=\\&quot;_blank\\&quot; href=\\&quot;http://www.openstreetmap.org/copyright\\&quot;\\u003eODbL\\u003c/a\\u003e.&quot;, &quot;detectRetina&quot;: false, &quot;maxNativeZoom&quot;: 18, &quot;maxZoom&quot;: 18, &quot;minZoom&quot;: 0, &quot;noWrap&quot;: false, &quot;opacity&quot;: 1, &quot;subdomains&quot;: &quot;abc&quot;, &quot;tms&quot;: false}\n",
              "            ).addTo(map_6e91b4efa29208cef9e59c75e8db625f);\n",
              "        \n",
              "    \n",
              "            var macro_element_64ef2e56e25b4138df0c8e990f45bcd7 = L.tileLayer.wms(\n",
              "                &quot;https://pae-paha.pacioos.hawaii.edu/thredds/wms/dhw_5km?service=WMS&quot;,\n",
              "                {&quot;COLORSCALERANGE&quot;: &quot;1.2,28&quot;, &quot;attribution&quot;: &quot;&quot;, &quot;format&quot;: &quot;image/png&quot;, &quot;layers&quot;: &quot;CRW_SST&quot;, &quot;styles&quot;: &quot;boxfill/sst_36&quot;, &quot;transparent&quot;: true, &quot;version&quot;: &quot;1.1.1&quot;}\n",
              "            ).addTo(map_6e91b4efa29208cef9e59c75e8db625f);\n",
              "        \n",
              "    \n",
              "            map_6e91b4efa29208cef9e59c75e8db625f.timeDimension = L.timeDimension(\n",
              "                {&quot;period&quot;: &quot;PT1H&quot;, &quot;timeInterval&quot;: &quot;1985-04-01T12:00:00.000Z/2023-11-26T12:00:00.000Z&quot;}\n",
              "            );\n",
              "            map_6e91b4efa29208cef9e59c75e8db625f.timeDimensionControl =\n",
              "                L.control.timeDimension(\n",
              "                    {&quot;autoPlay&quot;: false, &quot;playerOptions&quot;: {&quot;loop&quot;: false, &quot;transitionTime&quot;: 200}, &quot;position&quot;: &quot;bottomleft&quot;}\n",
              "                );\n",
              "            map_6e91b4efa29208cef9e59c75e8db625f.addControl(\n",
              "                map_6e91b4efa29208cef9e59c75e8db625f.timeDimensionControl\n",
              "            );\n",
              "\n",
              "            \n",
              "            var macro_element_64ef2e56e25b4138df0c8e990f45bcd7 = L.timeDimension.layer.wms(\n",
              "                macro_element_64ef2e56e25b4138df0c8e990f45bcd7,\n",
              "                {\n",
              "                    updateTimeDimension: false,\n",
              "                    wmsVersion: &quot;1.1.1&quot;,\n",
              "                }\n",
              "            ).addTo(map_6e91b4efa29208cef9e59c75e8db625f);\n",
              "            \n",
              "        \n",
              "    \n",
              "            var layer_control_0c15f7d62659cf635dc433b5c180dbb6 = {\n",
              "                base_layers : {\n",
              "                    &quot;openstreetmap&quot; : tile_layer_4b608242fd490edcefc07040c876fb42,\n",
              "                },\n",
              "                overlays :  {\n",
              "                    &quot;sea_surface_temperature&quot; : macro_element_64ef2e56e25b4138df0c8e990f45bcd7,\n",
              "                },\n",
              "            };\n",
              "            L.control.layers(\n",
              "                layer_control_0c15f7d62659cf635dc433b5c180dbb6.base_layers,\n",
              "                layer_control_0c15f7d62659cf635dc433b5c180dbb6.overlays,\n",
              "                {&quot;autoZIndex&quot;: true, &quot;collapsed&quot;: true, &quot;position&quot;: &quot;topright&quot;}\n",
              "            ).addTo(map_6e91b4efa29208cef9e59c75e8db625f);\n",
              "        \n",
              "&lt;/script&gt;\n",
              "&lt;/html&gt;\" style=\"position:absolute;width:100%;height:100%;left:0;top:0;border:none !important;\" allowfullscreen webkitallowfullscreen mozallowfullscreen></iframe></div></div>"
            ],
            "text/plain": [
              "<folium.folium.Map at 0x7fa743b3e9b0>"
            ]
          },
          "execution_count": 10,
          "metadata": {},
          "output_type": "execute_result"
        }
      ],
      "source": [
        "from owslib.wms import WebMapService\n",
        "from folium.plugins import TimestampedWmsTileLayers\n",
        "\n",
        "\n",
        "url = \"https://pae-paha.pacioos.hawaii.edu/thredds/wms/dhw_5km?service=WMS\"\n",
        "\n",
        "web_map_services = WebMapService(url)\n",
        "\n",
        "print(\"\\n\".join(web_map_services.contents.keys()))\n",
        "\n",
        "\n",
        "layer = \"CRW_SST\"\n",
        "wms = web_map_services.contents[layer]\n",
        "\n",
        "name = wms.title\n",
        "\n",
        "lon = (wms.boundingBox[0] + wms.boundingBox[2]) / 2.0\n",
        "lat = (wms.boundingBox[1] + wms.boundingBox[3]) / 2.0\n",
        "center = lat, lon\n",
        "\n",
        "time_interval = \"{0}/{1}\".format(\n",
        "    wms.timepositions[0].strip(), wms.timepositions[-1].strip()\n",
        ")\n",
        "style = \"boxfill/sst_36\"\n",
        "\n",
        "if style not in wms.styles:\n",
        "    style = None\n",
        "\n",
        "m = folium.Map(location=[-40, -50], zoom_start=5)\n",
        "\n",
        "wms_tile_layer = folium.WmsTileLayer(\n",
        "    url=url,\n",
        "    name=name,\n",
        "    styles=style,\n",
        "    fmt=\"image/png\",\n",
        "    transparent=True,\n",
        "    layers=layer,\n",
        "    overlay=True,\n",
        "    COLORSCALERANGE=\"1.2,28\",\n",
        ").add_to(m)\n",
        "\n",
        "TimestampedWmsTileLayers(\n",
        "    wms_tile_layer,\n",
        "    period=\"PT1H\",\n",
        "    time_interval=time_interval,\n",
        ").add_to(m)\n",
        "\n",
        "folium.LayerControl().add_to(m)\n",
        "\n",
        "m"
      ]
    },
    {
      "cell_type": "markdown",
      "metadata": {
        "id": "IKemV8ADavpT"
      },
      "source": [
        "#### Пример №3. Готовый проект с визуализацией пространственных данных на Python"
      ]
    },
    {
      "cell_type": "markdown",
      "metadata": {
        "id": "Gs6eVmW8bB02"
      },
      "source": [
        "Ссылка: https://github.com/MoustafaShaaban/Django_and_Folium/"
      ]
    },
    {
      "cell_type": "markdown",
      "metadata": {
        "id": "qrVizAlT_4Oh"
      },
      "source": [
        "## **VI. Порядок выполнения работы**"
      ]
    },
    {
      "cell_type": "markdown",
      "metadata": {
        "id": "zqEJ8T9k_282"
      },
      "source": [
        "\n",
        "\n",
        "1. **Выбор темы** из предложенных или собственной.\n",
        "\n",
        "2. **Выбор источников данных**, поиск и анализ доступных датасетов.\n",
        "\n",
        "3. **Сбор данных** и их предобработка.\n",
        "\n",
        "4. **Разведочный анализ данных**, визуализация, выявление закономерностей.\n",
        "\n",
        "5. **Выбор признаков** для модели и проведение инженерии признаков.\n",
        "\n",
        "6. **Выбор и обучение моделей** машинного обучения.\n",
        "\n",
        "7. **Анализ результатов**, сравнение моделей по нескольким метрикам (чем больше, тем лучше), выбор наилучшей.\n",
        "\n",
        "8. **Визуализация данных и прогнозов** на интерактивной карте.\n",
        "\n",
        "9. **Создание API-интерфейса** для обученной модели.\n",
        "\n",
        "10. **Разработка графического интерфейса** для взаимодействия с моделью.\n",
        "\n",
        "11. **Демонстрация работы модели**, подготовка инструкций по использованию."
      ]
    },
    {
      "cell_type": "markdown",
      "metadata": {
        "id": "dBvj1-qY_Pp-"
      },
      "source": [
        "## **V. Результаты выполнения работы**\n",
        "\n",
        "\n",
        "\n",
        "\n",
        "\n",
        "\n"
      ]
    },
    {
      "cell_type": "markdown",
      "metadata": {
        "id": "P5_llr0x_m0X"
      },
      "source": [
        "### 1. **Отчет по работе**\n",
        "\n"
      ]
    },
    {
      "cell_type": "markdown",
      "metadata": {
        "id": "FTZABKlk_nsF"
      },
      "source": [
        "Детальное описание всех этапов работы, включая анализ данных, описание моделей, результаты и выводы."
      ]
    },
    {
      "cell_type": "markdown",
      "metadata": {
        "id": "AdUb3PP1_kVB"
      },
      "source": [
        "### 2. **Готовый проект с инструкцией**\n",
        "\n",
        "- Ссылка на репозиторий с кодом проекта.\n",
        "\n",
        "- Инструкция по развертыванию и использованию приложения ([реализовать в файле README.MD](https://nuancesprog.ru/p/7105/)).\n",
        "\n",
        "- Демонстрация работы модели (скриншоты, видео)."
      ]
    },
    {
      "cell_type": "markdown",
      "metadata": {
        "id": "maL_NCf6_i-f"
      },
      "source": [
        "**Примечания:**\n",
        "\n",
        "1. Рекомендуемый сервис для развертывания API: [render.com](https://render.com/), также проект может быть упакован в Docker-контейнер для удобства развертывания.\n",
        "\n",
        "2. В качестве API-фреймворка рекомендуется использовать FastAPI из-за его простоты и эффективности.\n",
        "\n",
        "3. Графический интерфейс можно реализовать в Streamlit или другой подходящей платформе. ([Пример](https://www.youtube.com/watch?v=hn2WqRX75DI))\n",
        "\n",
        "P.S.: В крайнем случае Вы можете просто показать в Colab, как обращаетесь к модели через API, а затем вручную визуализируете результаты на интерактивной карте с помощью Folium или Leafmap."
      ]
    }
  ],
  "metadata": {
    "colab": {
      "collapsed_sections": [
        "MvG-7YLcB5OB"
      ],
      "provenance": []
    },
    "kernelspec": {
      "display_name": ".venv",
      "language": "python",
      "name": "python3"
    },
    "language_info": {
      "name": "python",
      "version": "3.10.12"
    }
  },
  "nbformat": 4,
  "nbformat_minor": 0
}
